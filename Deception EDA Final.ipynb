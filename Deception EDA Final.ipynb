{
 "cells": [
  {
   "cell_type": "code",
   "execution_count": 75,
   "id": "a083fb7c",
   "metadata": {},
   "outputs": [],
   "source": [
    "import pandas as pd\n",
    "import numpy as np\n",
    "import matplotlib.pyplot as plt\n",
    "import seaborn as sns"
   ]
  },
  {
   "cell_type": "code",
   "execution_count": 16,
   "id": "2e6330d1",
   "metadata": {},
   "outputs": [
    {
     "name": "stdout",
     "output_type": "stream",
     "text": [
      "                      id  OtherGestures  Smile  Laugh  Scowl  \\\n",
      "0      trial_lie_001.mp4              1      0      0      0   \n",
      "1      trial_lie_002.mp4              1      0      0      0   \n",
      "2      trial_lie_003.mp4              1      0      0      0   \n",
      "3      trial_lie_004.mp4              1      0      0      0   \n",
      "4      trial_lie_005.mp4              1      0      0      0   \n",
      "..                   ...            ...    ...    ...    ...   \n",
      "116  trial_truth_056.mp4              1      0      0      0   \n",
      "117  trial_truth_057.mp4              1      0      0      0   \n",
      "118  trial_truth_058.mp4              1      0      0      0   \n",
      "119  trial_truth_059.mp4              0      0      0      1   \n",
      "120  trial_truth_060.mp4              0      1      0      0   \n",
      "\n",
      "     otherEyebrowMovement  Frown  Raise  OtherEyeMovements  Close-R  ...  \\\n",
      "0                       1      0      0                  1        0  ...   \n",
      "1                       0      1      0                  1        0  ...   \n",
      "2                       0      1      0                  0        1  ...   \n",
      "3                       1      0      0                  1        0  ...   \n",
      "4                       0      1      0                  1        0  ...   \n",
      "..                    ...    ...    ...                ...      ...  ...   \n",
      "116                     1      0      0                  1        0  ...   \n",
      "117                     0      0      1                  0        1  ...   \n",
      "118                     0      0      1                  0        1  ...   \n",
      "119                     0      0      1                  0        1  ...   \n",
      "120                     0      0      1                  1        0  ...   \n",
      "\n",
      "     forwardHead  downRHead  singleHand  bothHands  otherHandM  complexHandM  \\\n",
      "0              0          0           0          0           1             0   \n",
      "1              0          0           0          1           0             1   \n",
      "2              0          0           0          0           1             0   \n",
      "3              0          1           0          0           1             0   \n",
      "4              0          0           1          0           0             0   \n",
      "..           ...        ...         ...        ...         ...           ...   \n",
      "116            0          0           1          0           0             0   \n",
      "117            0          1           0          0           1             0   \n",
      "118            0          1           0          0           1             0   \n",
      "119            0          0           0          0           1             0   \n",
      "120            0          0           0          0           1             0   \n",
      "\n",
      "     sidewaysHand  downHands  upHands      class  \n",
      "0               0          0        0  deceptive  \n",
      "1               0          0        0  deceptive  \n",
      "2               0          0        0  deceptive  \n",
      "3               0          0        0  deceptive  \n",
      "4               0          0        0  deceptive  \n",
      "..            ...        ...      ...        ...  \n",
      "116             0          0        1   truthful  \n",
      "117             0          0        0   truthful  \n",
      "118             0          0        0   truthful  \n",
      "119             0          0        0   truthful  \n",
      "120             0          0        0   truthful  \n",
      "\n",
      "[121 rows x 41 columns]\n"
     ]
    }
   ],
   "source": [
    "Features = pd.read_excel('Labels.xlsx', 'All_Gestures_Deceptive and Trut', header=0,\n",
    "index_col=False,\n",
    "keep_default_na=True\n",
    ")\n",
    "\n",
    "print(Features)"
   ]
  },
  {
   "cell_type": "code",
   "execution_count": 17,
   "id": "ebe31e9e",
   "metadata": {
    "scrolled": true
   },
   "outputs": [
    {
     "data": {
      "text/html": [
       "<div>\n",
       "<style scoped>\n",
       "    .dataframe tbody tr th:only-of-type {\n",
       "        vertical-align: middle;\n",
       "    }\n",
       "\n",
       "    .dataframe tbody tr th {\n",
       "        vertical-align: top;\n",
       "    }\n",
       "\n",
       "    .dataframe thead th {\n",
       "        text-align: right;\n",
       "    }\n",
       "</style>\n",
       "<table border=\"1\" class=\"dataframe\">\n",
       "  <thead>\n",
       "    <tr style=\"text-align: right;\">\n",
       "      <th></th>\n",
       "      <th>id</th>\n",
       "      <th>OtherGestures</th>\n",
       "      <th>Smile</th>\n",
       "      <th>Laugh</th>\n",
       "      <th>Scowl</th>\n",
       "      <th>otherEyebrowMovement</th>\n",
       "      <th>Frown</th>\n",
       "      <th>Raise</th>\n",
       "      <th>OtherEyeMovements</th>\n",
       "      <th>Close-R</th>\n",
       "      <th>...</th>\n",
       "      <th>forwardHead</th>\n",
       "      <th>downRHead</th>\n",
       "      <th>singleHand</th>\n",
       "      <th>bothHands</th>\n",
       "      <th>otherHandM</th>\n",
       "      <th>complexHandM</th>\n",
       "      <th>sidewaysHand</th>\n",
       "      <th>downHands</th>\n",
       "      <th>upHands</th>\n",
       "      <th>class</th>\n",
       "    </tr>\n",
       "  </thead>\n",
       "  <tbody>\n",
       "    <tr>\n",
       "      <th>0</th>\n",
       "      <td>trial_lie_001.mp4</td>\n",
       "      <td>1</td>\n",
       "      <td>0</td>\n",
       "      <td>0</td>\n",
       "      <td>0</td>\n",
       "      <td>1</td>\n",
       "      <td>0</td>\n",
       "      <td>0</td>\n",
       "      <td>1</td>\n",
       "      <td>0</td>\n",
       "      <td>...</td>\n",
       "      <td>0</td>\n",
       "      <td>0</td>\n",
       "      <td>0</td>\n",
       "      <td>0</td>\n",
       "      <td>1</td>\n",
       "      <td>0</td>\n",
       "      <td>0</td>\n",
       "      <td>0</td>\n",
       "      <td>0</td>\n",
       "      <td>deceptive</td>\n",
       "    </tr>\n",
       "    <tr>\n",
       "      <th>1</th>\n",
       "      <td>trial_lie_002.mp4</td>\n",
       "      <td>1</td>\n",
       "      <td>0</td>\n",
       "      <td>0</td>\n",
       "      <td>0</td>\n",
       "      <td>0</td>\n",
       "      <td>1</td>\n",
       "      <td>0</td>\n",
       "      <td>1</td>\n",
       "      <td>0</td>\n",
       "      <td>...</td>\n",
       "      <td>0</td>\n",
       "      <td>0</td>\n",
       "      <td>0</td>\n",
       "      <td>1</td>\n",
       "      <td>0</td>\n",
       "      <td>1</td>\n",
       "      <td>0</td>\n",
       "      <td>0</td>\n",
       "      <td>0</td>\n",
       "      <td>deceptive</td>\n",
       "    </tr>\n",
       "    <tr>\n",
       "      <th>2</th>\n",
       "      <td>trial_lie_003.mp4</td>\n",
       "      <td>1</td>\n",
       "      <td>0</td>\n",
       "      <td>0</td>\n",
       "      <td>0</td>\n",
       "      <td>0</td>\n",
       "      <td>1</td>\n",
       "      <td>0</td>\n",
       "      <td>0</td>\n",
       "      <td>1</td>\n",
       "      <td>...</td>\n",
       "      <td>0</td>\n",
       "      <td>0</td>\n",
       "      <td>0</td>\n",
       "      <td>0</td>\n",
       "      <td>1</td>\n",
       "      <td>0</td>\n",
       "      <td>0</td>\n",
       "      <td>0</td>\n",
       "      <td>0</td>\n",
       "      <td>deceptive</td>\n",
       "    </tr>\n",
       "    <tr>\n",
       "      <th>3</th>\n",
       "      <td>trial_lie_004.mp4</td>\n",
       "      <td>1</td>\n",
       "      <td>0</td>\n",
       "      <td>0</td>\n",
       "      <td>0</td>\n",
       "      <td>1</td>\n",
       "      <td>0</td>\n",
       "      <td>0</td>\n",
       "      <td>1</td>\n",
       "      <td>0</td>\n",
       "      <td>...</td>\n",
       "      <td>0</td>\n",
       "      <td>1</td>\n",
       "      <td>0</td>\n",
       "      <td>0</td>\n",
       "      <td>1</td>\n",
       "      <td>0</td>\n",
       "      <td>0</td>\n",
       "      <td>0</td>\n",
       "      <td>0</td>\n",
       "      <td>deceptive</td>\n",
       "    </tr>\n",
       "    <tr>\n",
       "      <th>4</th>\n",
       "      <td>trial_lie_005.mp4</td>\n",
       "      <td>1</td>\n",
       "      <td>0</td>\n",
       "      <td>0</td>\n",
       "      <td>0</td>\n",
       "      <td>0</td>\n",
       "      <td>1</td>\n",
       "      <td>0</td>\n",
       "      <td>1</td>\n",
       "      <td>0</td>\n",
       "      <td>...</td>\n",
       "      <td>0</td>\n",
       "      <td>0</td>\n",
       "      <td>1</td>\n",
       "      <td>0</td>\n",
       "      <td>0</td>\n",
       "      <td>0</td>\n",
       "      <td>0</td>\n",
       "      <td>0</td>\n",
       "      <td>0</td>\n",
       "      <td>deceptive</td>\n",
       "    </tr>\n",
       "  </tbody>\n",
       "</table>\n",
       "<p>5 rows × 41 columns</p>\n",
       "</div>"
      ],
      "text/plain": [
       "                  id  OtherGestures  Smile  Laugh  Scowl  \\\n",
       "0  trial_lie_001.mp4              1      0      0      0   \n",
       "1  trial_lie_002.mp4              1      0      0      0   \n",
       "2  trial_lie_003.mp4              1      0      0      0   \n",
       "3  trial_lie_004.mp4              1      0      0      0   \n",
       "4  trial_lie_005.mp4              1      0      0      0   \n",
       "\n",
       "   otherEyebrowMovement  Frown  Raise  OtherEyeMovements  Close-R  ...  \\\n",
       "0                     1      0      0                  1        0  ...   \n",
       "1                     0      1      0                  1        0  ...   \n",
       "2                     0      1      0                  0        1  ...   \n",
       "3                     1      0      0                  1        0  ...   \n",
       "4                     0      1      0                  1        0  ...   \n",
       "\n",
       "   forwardHead  downRHead  singleHand  bothHands  otherHandM  complexHandM  \\\n",
       "0            0          0           0          0           1             0   \n",
       "1            0          0           0          1           0             1   \n",
       "2            0          0           0          0           1             0   \n",
       "3            0          1           0          0           1             0   \n",
       "4            0          0           1          0           0             0   \n",
       "\n",
       "   sidewaysHand  downHands  upHands      class  \n",
       "0             0          0        0  deceptive  \n",
       "1             0          0        0  deceptive  \n",
       "2             0          0        0  deceptive  \n",
       "3             0          0        0  deceptive  \n",
       "4             0          0        0  deceptive  \n",
       "\n",
       "[5 rows x 41 columns]"
      ]
     },
     "execution_count": 17,
     "metadata": {},
     "output_type": "execute_result"
    }
   ],
   "source": [
    "Features.head()"
   ]
  },
  {
   "cell_type": "code",
   "execution_count": 93,
   "id": "b7acb2b4",
   "metadata": {},
   "outputs": [
    {
     "data": {
      "text/html": [
       "<div>\n",
       "<style scoped>\n",
       "    .dataframe tbody tr th:only-of-type {\n",
       "        vertical-align: middle;\n",
       "    }\n",
       "\n",
       "    .dataframe tbody tr th {\n",
       "        vertical-align: top;\n",
       "    }\n",
       "\n",
       "    .dataframe thead th {\n",
       "        text-align: right;\n",
       "    }\n",
       "</style>\n",
       "<table border=\"1\" class=\"dataframe\">\n",
       "  <thead>\n",
       "    <tr style=\"text-align: right;\">\n",
       "      <th></th>\n",
       "      <th>id</th>\n",
       "      <th>OtherGestures</th>\n",
       "      <th>Smile</th>\n",
       "      <th>Laugh</th>\n",
       "      <th>Scowl</th>\n",
       "      <th>otherEyebrowMovement</th>\n",
       "      <th>Frown</th>\n",
       "      <th>Raise</th>\n",
       "      <th>OtherEyeMovements</th>\n",
       "      <th>Close-R</th>\n",
       "      <th>...</th>\n",
       "      <th>forwardHead</th>\n",
       "      <th>downRHead</th>\n",
       "      <th>singleHand</th>\n",
       "      <th>bothHands</th>\n",
       "      <th>otherHandM</th>\n",
       "      <th>complexHandM</th>\n",
       "      <th>sidewaysHand</th>\n",
       "      <th>downHands</th>\n",
       "      <th>upHands</th>\n",
       "      <th>class</th>\n",
       "    </tr>\n",
       "  </thead>\n",
       "  <tbody>\n",
       "    <tr>\n",
       "      <th>0</th>\n",
       "      <td>trial_lie_001.mp4</td>\n",
       "      <td>1</td>\n",
       "      <td>0</td>\n",
       "      <td>0</td>\n",
       "      <td>0</td>\n",
       "      <td>1</td>\n",
       "      <td>0</td>\n",
       "      <td>0</td>\n",
       "      <td>1</td>\n",
       "      <td>0</td>\n",
       "      <td>...</td>\n",
       "      <td>0</td>\n",
       "      <td>0</td>\n",
       "      <td>0</td>\n",
       "      <td>0</td>\n",
       "      <td>1</td>\n",
       "      <td>0</td>\n",
       "      <td>0</td>\n",
       "      <td>0</td>\n",
       "      <td>0</td>\n",
       "      <td>deceptive</td>\n",
       "    </tr>\n",
       "    <tr>\n",
       "      <th>1</th>\n",
       "      <td>trial_lie_002.mp4</td>\n",
       "      <td>1</td>\n",
       "      <td>0</td>\n",
       "      <td>0</td>\n",
       "      <td>0</td>\n",
       "      <td>0</td>\n",
       "      <td>1</td>\n",
       "      <td>0</td>\n",
       "      <td>1</td>\n",
       "      <td>0</td>\n",
       "      <td>...</td>\n",
       "      <td>0</td>\n",
       "      <td>0</td>\n",
       "      <td>0</td>\n",
       "      <td>1</td>\n",
       "      <td>0</td>\n",
       "      <td>1</td>\n",
       "      <td>0</td>\n",
       "      <td>0</td>\n",
       "      <td>0</td>\n",
       "      <td>deceptive</td>\n",
       "    </tr>\n",
       "    <tr>\n",
       "      <th>2</th>\n",
       "      <td>trial_lie_003.mp4</td>\n",
       "      <td>1</td>\n",
       "      <td>0</td>\n",
       "      <td>0</td>\n",
       "      <td>0</td>\n",
       "      <td>0</td>\n",
       "      <td>1</td>\n",
       "      <td>0</td>\n",
       "      <td>0</td>\n",
       "      <td>1</td>\n",
       "      <td>...</td>\n",
       "      <td>0</td>\n",
       "      <td>0</td>\n",
       "      <td>0</td>\n",
       "      <td>0</td>\n",
       "      <td>1</td>\n",
       "      <td>0</td>\n",
       "      <td>0</td>\n",
       "      <td>0</td>\n",
       "      <td>0</td>\n",
       "      <td>deceptive</td>\n",
       "    </tr>\n",
       "    <tr>\n",
       "      <th>3</th>\n",
       "      <td>trial_lie_004.mp4</td>\n",
       "      <td>1</td>\n",
       "      <td>0</td>\n",
       "      <td>0</td>\n",
       "      <td>0</td>\n",
       "      <td>1</td>\n",
       "      <td>0</td>\n",
       "      <td>0</td>\n",
       "      <td>1</td>\n",
       "      <td>0</td>\n",
       "      <td>...</td>\n",
       "      <td>0</td>\n",
       "      <td>1</td>\n",
       "      <td>0</td>\n",
       "      <td>0</td>\n",
       "      <td>1</td>\n",
       "      <td>0</td>\n",
       "      <td>0</td>\n",
       "      <td>0</td>\n",
       "      <td>0</td>\n",
       "      <td>deceptive</td>\n",
       "    </tr>\n",
       "    <tr>\n",
       "      <th>4</th>\n",
       "      <td>trial_lie_005.mp4</td>\n",
       "      <td>1</td>\n",
       "      <td>0</td>\n",
       "      <td>0</td>\n",
       "      <td>0</td>\n",
       "      <td>0</td>\n",
       "      <td>1</td>\n",
       "      <td>0</td>\n",
       "      <td>1</td>\n",
       "      <td>0</td>\n",
       "      <td>...</td>\n",
       "      <td>0</td>\n",
       "      <td>0</td>\n",
       "      <td>1</td>\n",
       "      <td>0</td>\n",
       "      <td>0</td>\n",
       "      <td>0</td>\n",
       "      <td>0</td>\n",
       "      <td>0</td>\n",
       "      <td>0</td>\n",
       "      <td>deceptive</td>\n",
       "    </tr>\n",
       "  </tbody>\n",
       "</table>\n",
       "<p>5 rows × 41 columns</p>\n",
       "</div>"
      ],
      "text/plain": [
       "                  id  OtherGestures  Smile  Laugh  Scowl  \\\n",
       "0  trial_lie_001.mp4              1      0      0      0   \n",
       "1  trial_lie_002.mp4              1      0      0      0   \n",
       "2  trial_lie_003.mp4              1      0      0      0   \n",
       "3  trial_lie_004.mp4              1      0      0      0   \n",
       "4  trial_lie_005.mp4              1      0      0      0   \n",
       "\n",
       "   otherEyebrowMovement  Frown  Raise  OtherEyeMovements  Close-R  ...  \\\n",
       "0                     1      0      0                  1        0  ...   \n",
       "1                     0      1      0                  1        0  ...   \n",
       "2                     0      1      0                  0        1  ...   \n",
       "3                     1      0      0                  1        0  ...   \n",
       "4                     0      1      0                  1        0  ...   \n",
       "\n",
       "   forwardHead  downRHead  singleHand  bothHands  otherHandM  complexHandM  \\\n",
       "0            0          0           0          0           1             0   \n",
       "1            0          0           0          1           0             1   \n",
       "2            0          0           0          0           1             0   \n",
       "3            0          1           0          0           1             0   \n",
       "4            0          0           1          0           0             0   \n",
       "\n",
       "   sidewaysHand  downHands  upHands      class  \n",
       "0             0          0        0  deceptive  \n",
       "1             0          0        0  deceptive  \n",
       "2             0          0        0  deceptive  \n",
       "3             0          0        0  deceptive  \n",
       "4             0          0        0  deceptive  \n",
       "\n",
       "[5 rows x 41 columns]"
      ]
     },
     "execution_count": 93,
     "metadata": {},
     "output_type": "execute_result"
    }
   ],
   "source": [
    "Features_new = Features.copy()\n",
    "Features_new.head()"
   ]
  },
  {
   "cell_type": "code",
   "execution_count": 100,
   "id": "bfda0a07",
   "metadata": {},
   "outputs": [
    {
     "data": {
      "text/html": [
       "<div>\n",
       "<style scoped>\n",
       "    .dataframe tbody tr th:only-of-type {\n",
       "        vertical-align: middle;\n",
       "    }\n",
       "\n",
       "    .dataframe tbody tr th {\n",
       "        vertical-align: top;\n",
       "    }\n",
       "\n",
       "    .dataframe thead th {\n",
       "        text-align: right;\n",
       "    }\n",
       "</style>\n",
       "<table border=\"1\" class=\"dataframe\">\n",
       "  <thead>\n",
       "    <tr style=\"text-align: right;\">\n",
       "      <th></th>\n",
       "      <th>id</th>\n",
       "      <th>OtherGestures</th>\n",
       "      <th>Smile</th>\n",
       "      <th>Laugh</th>\n",
       "      <th>Scowl</th>\n",
       "      <th>otherEyebrowMovement</th>\n",
       "      <th>Frown</th>\n",
       "      <th>Raise</th>\n",
       "      <th>OtherEyeMovements</th>\n",
       "      <th>Close-R</th>\n",
       "      <th>...</th>\n",
       "      <th>forwardHead</th>\n",
       "      <th>downRHead</th>\n",
       "      <th>singleHand</th>\n",
       "      <th>bothHands</th>\n",
       "      <th>otherHandM</th>\n",
       "      <th>complexHandM</th>\n",
       "      <th>sidewaysHand</th>\n",
       "      <th>downHands</th>\n",
       "      <th>upHands</th>\n",
       "      <th>class</th>\n",
       "    </tr>\n",
       "  </thead>\n",
       "  <tbody>\n",
       "    <tr>\n",
       "      <th>0</th>\n",
       "      <td>trial_lie_001.mp4</td>\n",
       "      <td>1</td>\n",
       "      <td>0</td>\n",
       "      <td>0</td>\n",
       "      <td>0</td>\n",
       "      <td>1</td>\n",
       "      <td>0</td>\n",
       "      <td>0</td>\n",
       "      <td>1</td>\n",
       "      <td>0</td>\n",
       "      <td>...</td>\n",
       "      <td>0</td>\n",
       "      <td>0</td>\n",
       "      <td>0</td>\n",
       "      <td>0</td>\n",
       "      <td>1</td>\n",
       "      <td>0</td>\n",
       "      <td>0</td>\n",
       "      <td>0</td>\n",
       "      <td>0</td>\n",
       "      <td>1</td>\n",
       "    </tr>\n",
       "    <tr>\n",
       "      <th>1</th>\n",
       "      <td>trial_lie_002.mp4</td>\n",
       "      <td>1</td>\n",
       "      <td>0</td>\n",
       "      <td>0</td>\n",
       "      <td>0</td>\n",
       "      <td>0</td>\n",
       "      <td>1</td>\n",
       "      <td>0</td>\n",
       "      <td>1</td>\n",
       "      <td>0</td>\n",
       "      <td>...</td>\n",
       "      <td>0</td>\n",
       "      <td>0</td>\n",
       "      <td>0</td>\n",
       "      <td>1</td>\n",
       "      <td>0</td>\n",
       "      <td>1</td>\n",
       "      <td>0</td>\n",
       "      <td>0</td>\n",
       "      <td>0</td>\n",
       "      <td>1</td>\n",
       "    </tr>\n",
       "    <tr>\n",
       "      <th>2</th>\n",
       "      <td>trial_lie_003.mp4</td>\n",
       "      <td>1</td>\n",
       "      <td>0</td>\n",
       "      <td>0</td>\n",
       "      <td>0</td>\n",
       "      <td>0</td>\n",
       "      <td>1</td>\n",
       "      <td>0</td>\n",
       "      <td>0</td>\n",
       "      <td>1</td>\n",
       "      <td>...</td>\n",
       "      <td>0</td>\n",
       "      <td>0</td>\n",
       "      <td>0</td>\n",
       "      <td>0</td>\n",
       "      <td>1</td>\n",
       "      <td>0</td>\n",
       "      <td>0</td>\n",
       "      <td>0</td>\n",
       "      <td>0</td>\n",
       "      <td>1</td>\n",
       "    </tr>\n",
       "    <tr>\n",
       "      <th>3</th>\n",
       "      <td>trial_lie_004.mp4</td>\n",
       "      <td>1</td>\n",
       "      <td>0</td>\n",
       "      <td>0</td>\n",
       "      <td>0</td>\n",
       "      <td>1</td>\n",
       "      <td>0</td>\n",
       "      <td>0</td>\n",
       "      <td>1</td>\n",
       "      <td>0</td>\n",
       "      <td>...</td>\n",
       "      <td>0</td>\n",
       "      <td>1</td>\n",
       "      <td>0</td>\n",
       "      <td>0</td>\n",
       "      <td>1</td>\n",
       "      <td>0</td>\n",
       "      <td>0</td>\n",
       "      <td>0</td>\n",
       "      <td>0</td>\n",
       "      <td>1</td>\n",
       "    </tr>\n",
       "    <tr>\n",
       "      <th>4</th>\n",
       "      <td>trial_lie_005.mp4</td>\n",
       "      <td>1</td>\n",
       "      <td>0</td>\n",
       "      <td>0</td>\n",
       "      <td>0</td>\n",
       "      <td>0</td>\n",
       "      <td>1</td>\n",
       "      <td>0</td>\n",
       "      <td>1</td>\n",
       "      <td>0</td>\n",
       "      <td>...</td>\n",
       "      <td>0</td>\n",
       "      <td>0</td>\n",
       "      <td>1</td>\n",
       "      <td>0</td>\n",
       "      <td>0</td>\n",
       "      <td>0</td>\n",
       "      <td>0</td>\n",
       "      <td>0</td>\n",
       "      <td>0</td>\n",
       "      <td>1</td>\n",
       "    </tr>\n",
       "    <tr>\n",
       "      <th>...</th>\n",
       "      <td>...</td>\n",
       "      <td>...</td>\n",
       "      <td>...</td>\n",
       "      <td>...</td>\n",
       "      <td>...</td>\n",
       "      <td>...</td>\n",
       "      <td>...</td>\n",
       "      <td>...</td>\n",
       "      <td>...</td>\n",
       "      <td>...</td>\n",
       "      <td>...</td>\n",
       "      <td>...</td>\n",
       "      <td>...</td>\n",
       "      <td>...</td>\n",
       "      <td>...</td>\n",
       "      <td>...</td>\n",
       "      <td>...</td>\n",
       "      <td>...</td>\n",
       "      <td>...</td>\n",
       "      <td>...</td>\n",
       "      <td>...</td>\n",
       "    </tr>\n",
       "    <tr>\n",
       "      <th>116</th>\n",
       "      <td>trial_truth_056.mp4</td>\n",
       "      <td>1</td>\n",
       "      <td>0</td>\n",
       "      <td>0</td>\n",
       "      <td>0</td>\n",
       "      <td>1</td>\n",
       "      <td>0</td>\n",
       "      <td>0</td>\n",
       "      <td>1</td>\n",
       "      <td>0</td>\n",
       "      <td>...</td>\n",
       "      <td>0</td>\n",
       "      <td>0</td>\n",
       "      <td>1</td>\n",
       "      <td>0</td>\n",
       "      <td>0</td>\n",
       "      <td>0</td>\n",
       "      <td>0</td>\n",
       "      <td>0</td>\n",
       "      <td>1</td>\n",
       "      <td>0</td>\n",
       "    </tr>\n",
       "    <tr>\n",
       "      <th>117</th>\n",
       "      <td>trial_truth_057.mp4</td>\n",
       "      <td>1</td>\n",
       "      <td>0</td>\n",
       "      <td>0</td>\n",
       "      <td>0</td>\n",
       "      <td>0</td>\n",
       "      <td>0</td>\n",
       "      <td>1</td>\n",
       "      <td>0</td>\n",
       "      <td>1</td>\n",
       "      <td>...</td>\n",
       "      <td>0</td>\n",
       "      <td>1</td>\n",
       "      <td>0</td>\n",
       "      <td>0</td>\n",
       "      <td>1</td>\n",
       "      <td>0</td>\n",
       "      <td>0</td>\n",
       "      <td>0</td>\n",
       "      <td>0</td>\n",
       "      <td>0</td>\n",
       "    </tr>\n",
       "    <tr>\n",
       "      <th>118</th>\n",
       "      <td>trial_truth_058.mp4</td>\n",
       "      <td>1</td>\n",
       "      <td>0</td>\n",
       "      <td>0</td>\n",
       "      <td>0</td>\n",
       "      <td>0</td>\n",
       "      <td>0</td>\n",
       "      <td>1</td>\n",
       "      <td>0</td>\n",
       "      <td>1</td>\n",
       "      <td>...</td>\n",
       "      <td>0</td>\n",
       "      <td>1</td>\n",
       "      <td>0</td>\n",
       "      <td>0</td>\n",
       "      <td>1</td>\n",
       "      <td>0</td>\n",
       "      <td>0</td>\n",
       "      <td>0</td>\n",
       "      <td>0</td>\n",
       "      <td>0</td>\n",
       "    </tr>\n",
       "    <tr>\n",
       "      <th>119</th>\n",
       "      <td>trial_truth_059.mp4</td>\n",
       "      <td>0</td>\n",
       "      <td>0</td>\n",
       "      <td>0</td>\n",
       "      <td>1</td>\n",
       "      <td>0</td>\n",
       "      <td>0</td>\n",
       "      <td>1</td>\n",
       "      <td>0</td>\n",
       "      <td>1</td>\n",
       "      <td>...</td>\n",
       "      <td>0</td>\n",
       "      <td>0</td>\n",
       "      <td>0</td>\n",
       "      <td>0</td>\n",
       "      <td>1</td>\n",
       "      <td>0</td>\n",
       "      <td>0</td>\n",
       "      <td>0</td>\n",
       "      <td>0</td>\n",
       "      <td>0</td>\n",
       "    </tr>\n",
       "    <tr>\n",
       "      <th>120</th>\n",
       "      <td>trial_truth_060.mp4</td>\n",
       "      <td>0</td>\n",
       "      <td>1</td>\n",
       "      <td>0</td>\n",
       "      <td>0</td>\n",
       "      <td>0</td>\n",
       "      <td>0</td>\n",
       "      <td>1</td>\n",
       "      <td>1</td>\n",
       "      <td>0</td>\n",
       "      <td>...</td>\n",
       "      <td>0</td>\n",
       "      <td>0</td>\n",
       "      <td>0</td>\n",
       "      <td>0</td>\n",
       "      <td>1</td>\n",
       "      <td>0</td>\n",
       "      <td>0</td>\n",
       "      <td>0</td>\n",
       "      <td>0</td>\n",
       "      <td>0</td>\n",
       "    </tr>\n",
       "  </tbody>\n",
       "</table>\n",
       "<p>121 rows × 41 columns</p>\n",
       "</div>"
      ],
      "text/plain": [
       "                      id  OtherGestures  Smile  Laugh  Scowl  \\\n",
       "0      trial_lie_001.mp4              1      0      0      0   \n",
       "1      trial_lie_002.mp4              1      0      0      0   \n",
       "2      trial_lie_003.mp4              1      0      0      0   \n",
       "3      trial_lie_004.mp4              1      0      0      0   \n",
       "4      trial_lie_005.mp4              1      0      0      0   \n",
       "..                   ...            ...    ...    ...    ...   \n",
       "116  trial_truth_056.mp4              1      0      0      0   \n",
       "117  trial_truth_057.mp4              1      0      0      0   \n",
       "118  trial_truth_058.mp4              1      0      0      0   \n",
       "119  trial_truth_059.mp4              0      0      0      1   \n",
       "120  trial_truth_060.mp4              0      1      0      0   \n",
       "\n",
       "     otherEyebrowMovement  Frown  Raise  OtherEyeMovements  Close-R  ...  \\\n",
       "0                       1      0      0                  1        0  ...   \n",
       "1                       0      1      0                  1        0  ...   \n",
       "2                       0      1      0                  0        1  ...   \n",
       "3                       1      0      0                  1        0  ...   \n",
       "4                       0      1      0                  1        0  ...   \n",
       "..                    ...    ...    ...                ...      ...  ...   \n",
       "116                     1      0      0                  1        0  ...   \n",
       "117                     0      0      1                  0        1  ...   \n",
       "118                     0      0      1                  0        1  ...   \n",
       "119                     0      0      1                  0        1  ...   \n",
       "120                     0      0      1                  1        0  ...   \n",
       "\n",
       "     forwardHead  downRHead  singleHand  bothHands  otherHandM  complexHandM  \\\n",
       "0              0          0           0          0           1             0   \n",
       "1              0          0           0          1           0             1   \n",
       "2              0          0           0          0           1             0   \n",
       "3              0          1           0          0           1             0   \n",
       "4              0          0           1          0           0             0   \n",
       "..           ...        ...         ...        ...         ...           ...   \n",
       "116            0          0           1          0           0             0   \n",
       "117            0          1           0          0           1             0   \n",
       "118            0          1           0          0           1             0   \n",
       "119            0          0           0          0           1             0   \n",
       "120            0          0           0          0           1             0   \n",
       "\n",
       "     sidewaysHand  downHands  upHands  class  \n",
       "0               0          0        0      1  \n",
       "1               0          0        0      1  \n",
       "2               0          0        0      1  \n",
       "3               0          0        0      1  \n",
       "4               0          0        0      1  \n",
       "..            ...        ...      ...    ...  \n",
       "116             0          0        1      0  \n",
       "117             0          0        0      0  \n",
       "118             0          0        0      0  \n",
       "119             0          0        0      0  \n",
       "120             0          0        0      0  \n",
       "\n",
       "[121 rows x 41 columns]"
      ]
     },
     "execution_count": 100,
     "metadata": {},
     "output_type": "execute_result"
    }
   ],
   "source": [
    "#convert Deceitful and Truthful to 0 and 1 \n",
    "Features_new['class']=Features_new['class'].replace(['deceptive'], 1)\n",
    "Features_new['class']=Features_new['class'].replace(['truthful'], 0)\n",
    "Features_new"
   ]
  },
  {
   "cell_type": "code",
   "execution_count": 104,
   "id": "8413f827",
   "metadata": {
    "scrolled": false
   },
   "outputs": [
    {
     "data": {
      "text/html": [
       "<div>\n",
       "<style scoped>\n",
       "    .dataframe tbody tr th:only-of-type {\n",
       "        vertical-align: middle;\n",
       "    }\n",
       "\n",
       "    .dataframe tbody tr th {\n",
       "        vertical-align: top;\n",
       "    }\n",
       "\n",
       "    .dataframe thead th {\n",
       "        text-align: right;\n",
       "    }\n",
       "</style>\n",
       "<table border=\"1\" class=\"dataframe\">\n",
       "  <thead>\n",
       "    <tr style=\"text-align: right;\">\n",
       "      <th></th>\n",
       "      <th>Smile</th>\n",
       "      <th>Laugh</th>\n",
       "      <th>Scowl</th>\n",
       "      <th>Frown</th>\n",
       "      <th>gazeUp</th>\n",
       "      <th>gazeDown</th>\n",
       "      <th>gazeSide</th>\n",
       "      <th>OtherEyeMovements</th>\n",
       "      <th>class</th>\n",
       "    </tr>\n",
       "  </thead>\n",
       "  <tbody>\n",
       "    <tr>\n",
       "      <th>0</th>\n",
       "      <td>0</td>\n",
       "      <td>0</td>\n",
       "      <td>0</td>\n",
       "      <td>0</td>\n",
       "      <td>0</td>\n",
       "      <td>0</td>\n",
       "      <td>0</td>\n",
       "      <td>1</td>\n",
       "      <td>1</td>\n",
       "    </tr>\n",
       "    <tr>\n",
       "      <th>1</th>\n",
       "      <td>0</td>\n",
       "      <td>0</td>\n",
       "      <td>0</td>\n",
       "      <td>1</td>\n",
       "      <td>0</td>\n",
       "      <td>1</td>\n",
       "      <td>0</td>\n",
       "      <td>1</td>\n",
       "      <td>1</td>\n",
       "    </tr>\n",
       "    <tr>\n",
       "      <th>2</th>\n",
       "      <td>0</td>\n",
       "      <td>0</td>\n",
       "      <td>0</td>\n",
       "      <td>1</td>\n",
       "      <td>0</td>\n",
       "      <td>0</td>\n",
       "      <td>0</td>\n",
       "      <td>0</td>\n",
       "      <td>1</td>\n",
       "    </tr>\n",
       "    <tr>\n",
       "      <th>3</th>\n",
       "      <td>0</td>\n",
       "      <td>0</td>\n",
       "      <td>0</td>\n",
       "      <td>0</td>\n",
       "      <td>0</td>\n",
       "      <td>1</td>\n",
       "      <td>0</td>\n",
       "      <td>1</td>\n",
       "      <td>1</td>\n",
       "    </tr>\n",
       "    <tr>\n",
       "      <th>4</th>\n",
       "      <td>0</td>\n",
       "      <td>0</td>\n",
       "      <td>0</td>\n",
       "      <td>1</td>\n",
       "      <td>0</td>\n",
       "      <td>1</td>\n",
       "      <td>0</td>\n",
       "      <td>1</td>\n",
       "      <td>1</td>\n",
       "    </tr>\n",
       "    <tr>\n",
       "      <th>...</th>\n",
       "      <td>...</td>\n",
       "      <td>...</td>\n",
       "      <td>...</td>\n",
       "      <td>...</td>\n",
       "      <td>...</td>\n",
       "      <td>...</td>\n",
       "      <td>...</td>\n",
       "      <td>...</td>\n",
       "      <td>...</td>\n",
       "    </tr>\n",
       "    <tr>\n",
       "      <th>116</th>\n",
       "      <td>0</td>\n",
       "      <td>0</td>\n",
       "      <td>0</td>\n",
       "      <td>0</td>\n",
       "      <td>0</td>\n",
       "      <td>1</td>\n",
       "      <td>0</td>\n",
       "      <td>1</td>\n",
       "      <td>0</td>\n",
       "    </tr>\n",
       "    <tr>\n",
       "      <th>117</th>\n",
       "      <td>0</td>\n",
       "      <td>0</td>\n",
       "      <td>0</td>\n",
       "      <td>0</td>\n",
       "      <td>0</td>\n",
       "      <td>0</td>\n",
       "      <td>1</td>\n",
       "      <td>0</td>\n",
       "      <td>0</td>\n",
       "    </tr>\n",
       "    <tr>\n",
       "      <th>118</th>\n",
       "      <td>0</td>\n",
       "      <td>0</td>\n",
       "      <td>0</td>\n",
       "      <td>0</td>\n",
       "      <td>0</td>\n",
       "      <td>0</td>\n",
       "      <td>0</td>\n",
       "      <td>0</td>\n",
       "      <td>0</td>\n",
       "    </tr>\n",
       "    <tr>\n",
       "      <th>119</th>\n",
       "      <td>0</td>\n",
       "      <td>0</td>\n",
       "      <td>1</td>\n",
       "      <td>0</td>\n",
       "      <td>0</td>\n",
       "      <td>0</td>\n",
       "      <td>1</td>\n",
       "      <td>0</td>\n",
       "      <td>0</td>\n",
       "    </tr>\n",
       "    <tr>\n",
       "      <th>120</th>\n",
       "      <td>1</td>\n",
       "      <td>0</td>\n",
       "      <td>0</td>\n",
       "      <td>0</td>\n",
       "      <td>0</td>\n",
       "      <td>0</td>\n",
       "      <td>0</td>\n",
       "      <td>1</td>\n",
       "      <td>0</td>\n",
       "    </tr>\n",
       "  </tbody>\n",
       "</table>\n",
       "<p>121 rows × 9 columns</p>\n",
       "</div>"
      ],
      "text/plain": [
       "     Smile  Laugh  Scowl  Frown  gazeUp  gazeDown  gazeSide  \\\n",
       "0        0      0      0      0       0         0         0   \n",
       "1        0      0      0      1       0         1         0   \n",
       "2        0      0      0      1       0         0         0   \n",
       "3        0      0      0      0       0         1         0   \n",
       "4        0      0      0      1       0         1         0   \n",
       "..     ...    ...    ...    ...     ...       ...       ...   \n",
       "116      0      0      0      0       0         1         0   \n",
       "117      0      0      0      0       0         0         1   \n",
       "118      0      0      0      0       0         0         0   \n",
       "119      0      0      1      0       0         0         1   \n",
       "120      1      0      0      0       0         0         0   \n",
       "\n",
       "     OtherEyeMovements  class  \n",
       "0                    1      1  \n",
       "1                    1      1  \n",
       "2                    0      1  \n",
       "3                    1      1  \n",
       "4                    1      1  \n",
       "..                 ...    ...  \n",
       "116                  1      0  \n",
       "117                  0      0  \n",
       "118                  0      0  \n",
       "119                  0      0  \n",
       "120                  1      0  \n",
       "\n",
       "[121 rows x 9 columns]"
      ]
     },
     "execution_count": 104,
     "metadata": {},
     "output_type": "execute_result"
    }
   ],
   "source": [
    "#Creating a new dataframe\n",
    "features_new = Features_new[['Smile','Laugh','Scowl','Frown','gazeUp', 'gazeDown', 'gazeSide','OtherEyeMovements', 'class']]\n",
    "features_new "
   ]
  },
  {
   "cell_type": "code",
   "execution_count": 32,
   "id": "a6715cbf",
   "metadata": {},
   "outputs": [
    {
     "data": {
      "image/png": "[encoded data removed]",
      "text/plain": [
       "<Figure size 432x288 with 2 Axes>"
      ]
     },
     "metadata": {
      "needs_background": "light"
     },
     "output_type": "display_data"
    }
   ],
   "source": [
    "import seaborn as sns\n",
    "import matplotlib.pyplot as plt\n",
    "\n",
    "# create a correlation matrix\n",
    "corr_matrix = features_new.corr()\n",
    "\n",
    "# plot the correlation matrix as a heatmap\n",
    "sns.heatmap(corr_matrix, annot=True, cmap='coolwarm')\n",
    "\n",
    "# set the plot title\n",
    "plt.title('Correlation Plot of Facial Expression Features')\n",
    "\n",
    "# display the plot\n",
    "plt.show()"
   ]
  },
  {
   "cell_type": "code",
   "execution_count": 27,
   "id": "e500d573",
   "metadata": {
    "scrolled": true
   },
   "outputs": [
    {
     "data": {
      "image/png": "[encoded data removed]",
      "text/plain": [
       "<Figure size 720x432 with 2 Axes>"
      ]
     },
     "metadata": {
      "needs_background": "light"
     },
     "output_type": "display_data"
    }
   ],
   "source": [
    "corr_matrix = features_new.corr()\n",
    "\n",
    "# Set up the figure\n",
    "fig, ax = plt.subplots()\n",
    "fig.set_size_inches(10, 6)\n",
    "\n",
    "# Plot the heatmap\n",
    "sns.heatmap(corr_matrix, cmap=\"coolwarm\", annot=True, ax=ax)\n",
    "\n",
    "# Set the title and display the plot\n",
    "ax.set_title(\"Correlation Plot of Facial Expression Features\")\n",
    "plt.show()"
   ]
  },
  {
   "cell_type": "code",
   "execution_count": null,
   "id": "03cae9be",
   "metadata": {},
   "outputs": [],
   "source": []
  },
  {
   "cell_type": "code",
   "execution_count": 103,
   "id": "dcdcd38e",
   "metadata": {},
   "outputs": [
    {
     "data": {
      "text/html": [
       "<div>\n",
       "<style scoped>\n",
       "    .dataframe tbody tr th:only-of-type {\n",
       "        vertical-align: middle;\n",
       "    }\n",
       "\n",
       "    .dataframe tbody tr th {\n",
       "        vertical-align: top;\n",
       "    }\n",
       "\n",
       "    .dataframe thead th {\n",
       "        text-align: right;\n",
       "    }\n",
       "</style>\n",
       "<table border=\"1\" class=\"dataframe\">\n",
       "  <thead>\n",
       "    <tr style=\"text-align: right;\">\n",
       "      <th></th>\n",
       "      <th>Smile</th>\n",
       "      <th>Laugh</th>\n",
       "      <th>Scowl</th>\n",
       "      <th>Frown</th>\n",
       "      <th>gazeUp</th>\n",
       "      <th>gazeSide</th>\n",
       "      <th>gazeDown</th>\n",
       "    </tr>\n",
       "  </thead>\n",
       "  <tbody>\n",
       "    <tr>\n",
       "      <th>0</th>\n",
       "      <td>0</td>\n",
       "      <td>0</td>\n",
       "      <td>0</td>\n",
       "      <td>0</td>\n",
       "      <td>0</td>\n",
       "      <td>0</td>\n",
       "      <td>0</td>\n",
       "    </tr>\n",
       "    <tr>\n",
       "      <th>1</th>\n",
       "      <td>0</td>\n",
       "      <td>0</td>\n",
       "      <td>0</td>\n",
       "      <td>1</td>\n",
       "      <td>0</td>\n",
       "      <td>0</td>\n",
       "      <td>1</td>\n",
       "    </tr>\n",
       "    <tr>\n",
       "      <th>2</th>\n",
       "      <td>0</td>\n",
       "      <td>0</td>\n",
       "      <td>0</td>\n",
       "      <td>1</td>\n",
       "      <td>0</td>\n",
       "      <td>0</td>\n",
       "      <td>0</td>\n",
       "    </tr>\n",
       "    <tr>\n",
       "      <th>3</th>\n",
       "      <td>0</td>\n",
       "      <td>0</td>\n",
       "      <td>0</td>\n",
       "      <td>0</td>\n",
       "      <td>0</td>\n",
       "      <td>0</td>\n",
       "      <td>1</td>\n",
       "    </tr>\n",
       "    <tr>\n",
       "      <th>4</th>\n",
       "      <td>0</td>\n",
       "      <td>0</td>\n",
       "      <td>0</td>\n",
       "      <td>1</td>\n",
       "      <td>0</td>\n",
       "      <td>0</td>\n",
       "      <td>1</td>\n",
       "    </tr>\n",
       "  </tbody>\n",
       "</table>\n",
       "</div>"
      ],
      "text/plain": [
       "   Smile  Laugh  Scowl  Frown  gazeUp  gazeSide  gazeDown\n",
       "0      0      0      0      0       0         0         0\n",
       "1      0      0      0      1       0         0         1\n",
       "2      0      0      0      1       0         0         0\n",
       "3      0      0      0      0       0         0         1\n",
       "4      0      0      0      1       0         0         1"
      ]
     },
     "execution_count": 103,
     "metadata": {},
     "output_type": "execute_result"
    }
   ],
   "source": [
    "Final_features = Features[['Smile', 'Laugh', 'Scowl', 'Frown', 'gazeUp','gazeSide','gazeDown']]\n",
    "Final_features.head()"
   ]
  },
  {
   "cell_type": "code",
   "execution_count": 80,
   "id": "21963957",
   "metadata": {},
   "outputs": [],
   "source": [
    "#trail Function 1\n",
    "def plot_grouped_bar_charts(Final_features):\n",
    "    # Assign truth as 0 and lie as 1 for all columns\n",
    "    Final_features = Final_features.replace({'Truthful': 0, 'Deceptive': 1})\n",
    "    \n",
    "    # Create grouped bar charts for each facial expression\n",
    "    for expression in Final_features.columns:\n",
    "        if expression != 'Laugh':\n",
    "            # Group the data by expression and label\n",
    "            group_data = df.groupby([expression, 'Laugh']).size().reset_index(name='Count')\n",
    "\n",
    "            # Pivot the data to create a grouped bar chart\n",
    "            pivot_data = group_data.pivot(index=expression, columns='Laugh', values='Count')\n",
    "\n",
    "            # Plot the grouped bar chart\n",
    "            pivot_data.plot(kind='bar', stacked=True)\n",
    "            plt.xlabel('{}'.format(expression))\n",
    "            plt.ylabel('Count')\n",
    "            plt.title('Truth vs Lie Count for {}'.format(expression))\n",
    "            plt.show()"
   ]
  },
  {
   "cell_type": "code",
   "execution_count": 81,
   "id": "1cd2bbf7",
   "metadata": {},
   "outputs": [
    {
     "data": {
      "image/png": "[encoded data removed]",
      "text/plain": [
       "<Figure size 432x288 with 1 Axes>"
      ]
     },
     "metadata": {
      "needs_background": "light"
     },
     "output_type": "display_data"
    },
    {
     "data": {
      "image/png": "[encoded data removed]",
      "text/plain": [
       "<Figure size 432x288 with 1 Axes>"
      ]
     },
     "metadata": {
      "needs_background": "light"
     },
     "output_type": "display_data"
    },
    {
     "data": {
      "image/png": "[encoded data removed]",
      "text/plain": [
       "<Figure size 432x288 with 1 Axes>"
      ]
     },
     "metadata": {
      "needs_background": "light"
     },
     "output_type": "display_data"
    },
    {
     "data": {
      "image/png": "[encoded data removed]",
      "text/plain": [
       "<Figure size 432x288 with 1 Axes>"
      ]
     },
     "metadata": {
      "needs_background": "light"
     },
     "output_type": "display_data"
    },
    {
     "data": {
      "image/png": "[encoded data removed]",
      "text/plain": [
       "<Figure size 432x288 with 1 Axes>"
      ]
     },
     "metadata": {
      "needs_background": "light"
     },
     "output_type": "display_data"
    },
    {
     "data": {
      "image/png": "[encoded data removed]",
      "text/plain": [
       "<Figure size 432x288 with 1 Axes>"
      ]
     },
     "metadata": {
      "needs_background": "light"
     },
     "output_type": "display_data"
    },
    {
     "data": {
      "image/png": "[encoded data removed]",
      "text/plain": [
       "<Figure size 432x288 with 1 Axes>"
      ]
     },
     "metadata": {
      "needs_background": "light"
     },
     "output_type": "display_data"
    }
   ],
   "source": [
    "plot_grouped_bar_charts(Final_features)"
   ]
  },
  {
   "cell_type": "code",
   "execution_count": 64,
   "id": "b8daa349",
   "metadata": {},
   "outputs": [],
   "source": [
    "#Trail Function 2\n",
    "\n",
    "def plot_grouped_bar_charts(Final_features):\n",
    "    # Assign truth as 0 and lie as 1\n",
    "    Final_features['Label']= Final_features['Label'].map({'Truthful': 0, 'Deceptive': 1})\n",
    "    \n",
    "    # Create grouped bar charts for each facial expression\n",
    "    for expression in expressions:\n",
    "        # Group the data by expression and label\n",
    "        group_data = features_new.groupby(['Expression', 'Label']).size().reset_index(name='Count')\n",
    "\n",
    "        # Pivot the data to create a grouped bar chart\n",
    "        pivot_data = group_data.pivot(index=expressions, columns='label', values='Count')\n",
    "\n",
    "        # Plot the grouped bar chart\n",
    "        pivot_data.plot(kind='bar', stacked=True)\n",
    "        plt.xlabel('Facial Expression')\n",
    "        plt.ylabel('Count')\n",
    "        plt.title('Truth vs Lie Count for {}'.format(expression))\n",
    "        plt.show()"
   ]
  },
  {
   "cell_type": "code",
   "execution_count": 77,
   "id": "39452cb7",
   "metadata": {},
   "outputs": [
    {
     "data": {
      "image/png": "[encoded data removed]",
      "text/plain": [
       "<Figure size 432x288 with 1 Axes>"
      ]
     },
     "metadata": {
      "needs_background": "light"
     },
     "output_type": "display_data"
    },
    {
     "data": {
      "image/png": "[encoded data removed]",
      "text/plain": [
       "<Figure size 432x288 with 1 Axes>"
      ]
     },
     "metadata": {
      "needs_background": "light"
     },
     "output_type": "display_data"
    },
    {
     "data": {
      "image/png": "[encoded data removed]",
      "text/plain": [
       "<Figure size 432x288 with 1 Axes>"
      ]
     },
     "metadata": {
      "needs_background": "light"
     },
     "output_type": "display_data"
    },
    {
     "data": {
      "image/png": "[encoded data removed]",
      "text/plain": [
       "<Figure size 432x288 with 1 Axes>"
      ]
     },
     "metadata": {
      "needs_background": "light"
     },
     "output_type": "display_data"
    },
    {
     "data": {
      "image/png": "[encoded data removed]",
      "text/plain": [
       "<Figure size 432x288 with 1 Axes>"
      ]
     },
     "metadata": {
      "needs_background": "light"
     },
     "output_type": "display_data"
    },
    {
     "data": {
      "image/png": "[encoded data removed]",
      "text/plain": [
       "<Figure size 432x288 with 1 Axes>"
      ]
     },
     "metadata": {
      "needs_background": "light"
     },
     "output_type": "display_data"
    },
    {
     "ename": "KeyError",
     "evalue": "'class'",
     "output_type": "error",
     "traceback": [
      "\u001b[0;31m---------------------------------------------------------------------------\u001b[0m",
      "\u001b[0;31mKeyError\u001b[0m                                  Traceback (most recent call last)",
      "\u001b[0;32m<ipython-input-77-c379c49364ed>\u001b[0m in \u001b[0;36m<module>\u001b[0;34m\u001b[0m\n\u001b[1;32m      3\u001b[0m \u001b[0;34m\u001b[0m\u001b[0m\n\u001b[1;32m      4\u001b[0m \u001b[0;31m# Call the function to plot the grouped bar charts\u001b[0m\u001b[0;34m\u001b[0m\u001b[0;34m\u001b[0m\u001b[0;34m\u001b[0m\u001b[0m\n\u001b[0;32m----> 5\u001b[0;31m \u001b[0mplot_grouped_bar_charts\u001b[0m\u001b[0;34m(\u001b[0m\u001b[0mFinal_features\u001b[0m\u001b[0;34m)\u001b[0m\u001b[0;34m\u001b[0m\u001b[0;34m\u001b[0m\u001b[0m\n\u001b[0m",
      "\u001b[0;32m<ipython-input-76-65a5d09e0879>\u001b[0m in \u001b[0;36mplot_grouped_bar_charts\u001b[0;34m(Final_features)\u001b[0m\n\u001b[1;32m      8\u001b[0m         \u001b[0;32mif\u001b[0m \u001b[0mexpression\u001b[0m \u001b[0;34m!=\u001b[0m \u001b[0;34m'Smile'\u001b[0m\u001b[0;34m:\u001b[0m\u001b[0;34m\u001b[0m\u001b[0;34m\u001b[0m\u001b[0m\n\u001b[1;32m      9\u001b[0m             \u001b[0;31m# Group the data by expression and label\u001b[0m\u001b[0;34m\u001b[0m\u001b[0;34m\u001b[0m\u001b[0;34m\u001b[0m\u001b[0m\n\u001b[0;32m---> 10\u001b[0;31m             \u001b[0mgroup_data\u001b[0m \u001b[0;34m=\u001b[0m \u001b[0mdf\u001b[0m\u001b[0;34m.\u001b[0m\u001b[0mgroupby\u001b[0m\u001b[0;34m(\u001b[0m\u001b[0;34m[\u001b[0m\u001b[0mexpression\u001b[0m\u001b[0;34m,\u001b[0m \u001b[0;34m'Smile'\u001b[0m\u001b[0;34m]\u001b[0m\u001b[0;34m)\u001b[0m\u001b[0;34m.\u001b[0m\u001b[0msize\u001b[0m\u001b[0;34m(\u001b[0m\u001b[0;34m)\u001b[0m\u001b[0;34m.\u001b[0m\u001b[0mreset_index\u001b[0m\u001b[0;34m(\u001b[0m\u001b[0mname\u001b[0m\u001b[0;34m=\u001b[0m\u001b[0;34m'Count'\u001b[0m\u001b[0;34m)\u001b[0m\u001b[0;34m\u001b[0m\u001b[0;34m\u001b[0m\u001b[0m\n\u001b[0m\u001b[1;32m     11\u001b[0m \u001b[0;34m\u001b[0m\u001b[0m\n\u001b[1;32m     12\u001b[0m             \u001b[0;31m# Pivot the data to create a grouped bar chart\u001b[0m\u001b[0;34m\u001b[0m\u001b[0;34m\u001b[0m\u001b[0;34m\u001b[0m\u001b[0m\n",
      "\u001b[0;32m~/opt/anaconda3/lib/python3.8/site-packages/pandas/core/frame.py\u001b[0m in \u001b[0;36mgroupby\u001b[0;34m(self, by, axis, level, as_index, sort, group_keys, squeeze, observed, dropna)\u001b[0m\n\u001b[1;32m   6715\u001b[0m         \u001b[0maxis\u001b[0m \u001b[0;34m=\u001b[0m \u001b[0mself\u001b[0m\u001b[0;34m.\u001b[0m\u001b[0m_get_axis_number\u001b[0m\u001b[0;34m(\u001b[0m\u001b[0maxis\u001b[0m\u001b[0;34m)\u001b[0m\u001b[0;34m\u001b[0m\u001b[0;34m\u001b[0m\u001b[0m\n\u001b[1;32m   6716\u001b[0m \u001b[0;34m\u001b[0m\u001b[0m\n\u001b[0;32m-> 6717\u001b[0;31m         return DataFrameGroupBy(\n\u001b[0m\u001b[1;32m   6718\u001b[0m             \u001b[0mobj\u001b[0m\u001b[0;34m=\u001b[0m\u001b[0mself\u001b[0m\u001b[0;34m,\u001b[0m\u001b[0;34m\u001b[0m\u001b[0;34m\u001b[0m\u001b[0m\n\u001b[1;32m   6719\u001b[0m             \u001b[0mkeys\u001b[0m\u001b[0;34m=\u001b[0m\u001b[0mby\u001b[0m\u001b[0;34m,\u001b[0m\u001b[0;34m\u001b[0m\u001b[0;34m\u001b[0m\u001b[0m\n",
      "\u001b[0;32m~/opt/anaconda3/lib/python3.8/site-packages/pandas/core/groupby/groupby.py\u001b[0m in \u001b[0;36m__init__\u001b[0;34m(self, obj, keys, axis, level, grouper, exclusions, selection, as_index, sort, group_keys, squeeze, observed, mutated, dropna)\u001b[0m\n\u001b[1;32m    558\u001b[0m             \u001b[0;32mfrom\u001b[0m \u001b[0mpandas\u001b[0m\u001b[0;34m.\u001b[0m\u001b[0mcore\u001b[0m\u001b[0;34m.\u001b[0m\u001b[0mgroupby\u001b[0m\u001b[0;34m.\u001b[0m\u001b[0mgrouper\u001b[0m \u001b[0;32mimport\u001b[0m \u001b[0mget_grouper\u001b[0m\u001b[0;34m\u001b[0m\u001b[0;34m\u001b[0m\u001b[0m\n\u001b[1;32m    559\u001b[0m \u001b[0;34m\u001b[0m\u001b[0m\n\u001b[0;32m--> 560\u001b[0;31m             grouper, exclusions, obj = get_grouper(\n\u001b[0m\u001b[1;32m    561\u001b[0m                 \u001b[0mobj\u001b[0m\u001b[0;34m,\u001b[0m\u001b[0;34m\u001b[0m\u001b[0;34m\u001b[0m\u001b[0m\n\u001b[1;32m    562\u001b[0m                 \u001b[0mkeys\u001b[0m\u001b[0;34m,\u001b[0m\u001b[0;34m\u001b[0m\u001b[0;34m\u001b[0m\u001b[0m\n",
      "\u001b[0;32m~/opt/anaconda3/lib/python3.8/site-packages/pandas/core/groupby/grouper.py\u001b[0m in \u001b[0;36mget_grouper\u001b[0;34m(obj, key, axis, level, sort, observed, mutated, validate, dropna)\u001b[0m\n\u001b[1;32m    809\u001b[0m                 \u001b[0min_axis\u001b[0m\u001b[0;34m,\u001b[0m \u001b[0mname\u001b[0m\u001b[0;34m,\u001b[0m \u001b[0mlevel\u001b[0m\u001b[0;34m,\u001b[0m \u001b[0mgpr\u001b[0m \u001b[0;34m=\u001b[0m \u001b[0;32mFalse\u001b[0m\u001b[0;34m,\u001b[0m \u001b[0;32mNone\u001b[0m\u001b[0;34m,\u001b[0m \u001b[0mgpr\u001b[0m\u001b[0;34m,\u001b[0m \u001b[0;32mNone\u001b[0m\u001b[0;34m\u001b[0m\u001b[0;34m\u001b[0m\u001b[0m\n\u001b[1;32m    810\u001b[0m             \u001b[0;32melse\u001b[0m\u001b[0;34m:\u001b[0m\u001b[0;34m\u001b[0m\u001b[0;34m\u001b[0m\u001b[0m\n\u001b[0;32m--> 811\u001b[0;31m                 \u001b[0;32mraise\u001b[0m \u001b[0mKeyError\u001b[0m\u001b[0;34m(\u001b[0m\u001b[0mgpr\u001b[0m\u001b[0;34m)\u001b[0m\u001b[0;34m\u001b[0m\u001b[0;34m\u001b[0m\u001b[0m\n\u001b[0m\u001b[1;32m    812\u001b[0m         \u001b[0;32melif\u001b[0m \u001b[0misinstance\u001b[0m\u001b[0;34m(\u001b[0m\u001b[0mgpr\u001b[0m\u001b[0;34m,\u001b[0m \u001b[0mGrouper\u001b[0m\u001b[0;34m)\u001b[0m \u001b[0;32mand\u001b[0m \u001b[0mgpr\u001b[0m\u001b[0;34m.\u001b[0m\u001b[0mkey\u001b[0m \u001b[0;32mis\u001b[0m \u001b[0;32mnot\u001b[0m \u001b[0;32mNone\u001b[0m\u001b[0;34m:\u001b[0m\u001b[0;34m\u001b[0m\u001b[0;34m\u001b[0m\u001b[0m\n\u001b[1;32m    813\u001b[0m             \u001b[0;31m# Add key to exclusions\u001b[0m\u001b[0;34m\u001b[0m\u001b[0;34m\u001b[0m\u001b[0;34m\u001b[0m\u001b[0m\n",
      "\u001b[0;31mKeyError\u001b[0m: 'class'"
     ]
    }
   ],
   "source": [
    "# Specify the facial expressions to plot\n",
    "expressions = [['Laugh', 'Smile', 'Scowl', 'Frown','gazeUp', 'gazeSide','gazeDown']]\n",
    "\n",
    "# Call the function to plot the grouped bar charts\n",
    "plot_grouped_bar_charts(Final_features)"
   ]
  },
  {
   "cell_type": "code",
   "execution_count": 89,
   "id": "423540a1",
   "metadata": {},
   "outputs": [],
   "source": [
    "# #Trail Function 3\n",
    "# import pandas as pd\n",
    "# import matplotlib.pyplot as plt\n",
    "\n",
    "# def grouped_bar_plot_expression(dataframe, expression, title=\"Expression\", xlabel=\"\", ylabel=\"\"):\n",
    "   \n",
    "#     # Group the data by truth and lie counts for the expression\n",
    "#     grouped_data = dataframe.groupby([expression]).agg({\"Truth\": \"sum\", \"Lie\": \"sum\"})\n",
    "\n",
    "#     # Get the x-axis tick labels from the expression column\n",
    "#     x_tick_labels = dataframe[expression].unique()\n",
    "\n",
    "#     # Get the number of bars per group and the width of each bar\n",
    "#     n_bars = len(grouped_data.columns)\n",
    "#     bar_width = 1 / (n_bars + 1)\n",
    "\n",
    "#     # Set up the plot\n",
    "#     fig, ax = plt.subplots()\n",
    "#     fig.set_size_inches(10, 6)\n",
    "\n",
    "#     # Plot each group of bars\n",
    "#     for i, col in enumerate(grouped_data.columns):\n",
    "#         x_pos = [j + i * bar_width for j in range(len(x_tick_labels))]\n",
    "#         ax.bar(x_pos, grouped_data[col], width=bar_width, edgecolor=\"white\", label=col)\n",
    "\n",
    "#     # Add labels and legend\n",
    "#     ax.set_xticks([j + n_bars * bar_width / 2 for j in range(len(x_tick_labels))])\n",
    "#     ax.set_xticklabels(x_tick_labels)\n",
    "#     ax.set_title(title)\n",
    "#     ax.set_xlabel(xlabel)\n",
    "#     ax.set_ylabel(ylabel)\n",
    "#     ax.legend()\n",
    "\n",
    "#     plt.show()"
   ]
  },
  {
   "cell_type": "code",
   "execution_count": 90,
   "id": "04cd2348",
   "metadata": {},
   "outputs": [
    {
     "data": {
      "image/png": "[encoded data removed]",
      "text/plain": [
       "<Figure size 720x432 with 1 Axes>"
      ]
     },
     "metadata": {
      "needs_background": "light"
     },
     "output_type": "display_data"
    }
   ],
   "source": [
    "# data = {\n",
    "#     \"Laugh\": [\"Truth\", \"Lie\", \"Truth\", \"Lie\", \"Truth\", \"Lie\"],\n",
    "#     \"Smile\": [\"Truth\", \"Lie\", \"Lie\", \"Truth\", \"Truth\", \"Lie\"],\n",
    "#     \"Scowl\": [\"Truth\", \"Truth\", \"Lie\", \"Lie\", \"Truth\", \"Truth\"],\n",
    "#     \"Frown\": [\"Lie\", \"Lie\", \"Truth\", \"Truth\", \"Truth\", \"Lie\"],\n",
    "#     \"Raise\": [\"Truth\", \"Truth\", \"Truth\", \"Lie\", \"Lie\", \"Lie\"],\n",
    "#     \"gazeUp\": [\"Lie\", \"Truth\", \"Truth\", \"Lie\", \"Truth\", \"Truth\"],\n",
    "#     \"gazeSide\": [\"Truth\", \"Lie\", \"Truth\", \"Lie\", \"Lie\", \"Truth\"],\n",
    "#     \"Truth\": [3, 3, 3, 2, 4, 3],\n",
    "#     \"Lie\": [3, 3, 2, 3, 1, 3]\n",
    "# }\n",
    "# df = pd.DataFrame(data)\n",
    "\n",
    "# #Create grouped bar plots for each expression\n",
    "# grouped_bar_plot_expression(df, \"Laugh\", title=\"Laugh Truth vs Lie Count\", xlabel=\"Laugh Expression\", ylabel=\"Count\")\n"
   ]
  },
  {
   "cell_type": "code",
   "execution_count": null,
   "id": "4099b484",
   "metadata": {},
   "outputs": [],
   "source": [
    "grouped_bar_plot_expression(df, \"Frown\", title=\"Laugh Truth vs Lie Count\", xlabel=\"Laugh Expression\", ylabel=\"Count\")\n"
   ]
  },
  {
   "cell_type": "code",
   "execution_count": null,
   "id": "0bf0daeb",
   "metadata": {},
   "outputs": [],
   "source": [
    "# import pandas as pd\n",
    "# import matplotlib.pyplot as plt\n",
    "\n",
    "# def plot_feature_distribution(df, feature_names, class_col_name):\n",
    "#     \"\"\"\n",
    "#     Plot a bar graph for each feature in feature_names showing the count of truthful and deceptive values.\n",
    "\n",
    "#     Parameters:\n",
    "#     df (pandas.DataFrame): The dataframe containing the features and the class column\n",
    "#     feature_names (list of str): The names of the feature(s) to plot\n",
    "#     class_col_name (str): The name of the column containing the class labels\n",
    "\n",
    "#     Returns:\n",
    "#     None (displays the plot)\n",
    "#     \"\"\"\n",
    "#     # Subset the dataframe to only include the desired features and the class column\n",
    "#     df = Final_features[ + [class_col_name]]\n",
    "\n",
    "#     # Group the dataframe by the class column and count the number of occurrences of each value for each feature\n",
    "#     grouped = df.groupby(class_col_name)[feature_names].agg('sum')\n",
    "\n",
    "#     # Transpose the grouped dataframe so that features are columns and class labels are rows\n",
    "#     transposed = grouped.transpose()\n",
    "\n",
    "#     # Plot a bar graph for each feature\n",
    "#     fig, axs = plt.subplots(len(feature_names), 1, figsize=(10, 10))\n",
    "\n",
    "#     for i, feature_name in enumerate(feature_names):\n",
    "#         ax = axs[i]\n",
    "#         ax.bar(transposed.index, transposed[feature_name])\n",
    "#         ax.set_xlabel(class_col_name)\n",
    "#         ax.set_ylabel(feature_name)\n",
    "\n",
    "#     plt.tight_layout()\n",
    "#     plt.show()"
   ]
  },
  {
   "cell_type": "code",
   "execution_count": 123,
   "id": "cb7bce63",
   "metadata": {},
   "outputs": [],
   "source": [
    "#Create a function for automated plotting with 2 parameters.\n",
    "def plot_feature_distribution (expr, features_new):\n",
    " #group the dataframe column class with the labels with the expression columns   \n",
    "    summed = features_new.groupby(expr)['class'].sum()\n",
    " #plot the graph for each feature\n",
    "    ax = summed.plot(x= expr, y ='class', kind='bar',color =['green','red'])\n",
    "    ax.set_xlabel(expr)\n",
    "    ax.set_ylabel('Sum of Truth and Deceit values')\n",
    "    ax.set_xticklabels(['Truthful','Deceptive'])\n",
    "    plt.show()\n",
    "    ax.figure.savefig(expr+'.pdf')\n"
   ]
  },
  {
   "cell_type": "code",
   "execution_count": 124,
   "id": "daa881cc",
   "metadata": {},
   "outputs": [
    {
     "data": {
      "image/png": "[encoded data removed]",
      "text/plain": [
       "<Figure size 432x288 with 1 Axes>"
      ]
     },
     "metadata": {
      "needs_background": "light"
     },
     "output_type": "display_data"
    }
   ],
   "source": [
    "Smile_plot = plot_feature_distribution('Smile',features_new)\n"
   ]
  },
  {
   "cell_type": "code",
   "execution_count": 125,
   "id": "4f24092c",
   "metadata": {},
   "outputs": [
    {
     "data": {
      "image/png": "[encoded data removed]",
      "text/plain": [
       "<Figure size 432x288 with 1 Axes>"
      ]
     },
     "metadata": {
      "needs_background": "light"
     },
     "output_type": "display_data"
    }
   ],
   "source": [
    "Laugh_plot=plot_feature_distribution('Laugh',features_new)"
   ]
  },
  {
   "cell_type": "code",
   "execution_count": 131,
   "id": "1b540d81",
   "metadata": {},
   "outputs": [
    {
     "data": {
      "image/png": "[encoded data removed]",
      "text/plain": [
       "<Figure size 432x288 with 1 Axes>"
      ]
     },
     "metadata": {
      "needs_background": "light"
     },
     "output_type": "display_data"
    }
   ],
   "source": [
    "Frown_plot=plot_feature_distribution('Frown',features_new)"
   ]
  },
  {
   "cell_type": "code",
   "execution_count": 127,
   "id": "63a01380",
   "metadata": {},
   "outputs": [
    {
     "data": {
      "image/png": "[encoded data removed]",
      "text/plain": [
       "<Figure size 432x288 with 1 Axes>"
      ]
     },
     "metadata": {
      "needs_background": "light"
     },
     "output_type": "display_data"
    }
   ],
   "source": [
    "gazeUp_plot=plot_feature_distribution('gazeUp',features_new)"
   ]
  },
  {
   "cell_type": "code",
   "execution_count": 128,
   "id": "dccc24f6",
   "metadata": {},
   "outputs": [
    {
     "data": {
      "image/png": "[encoded data removed]",
      "text/plain": [
       "<Figure size 432x288 with 1 Axes>"
      ]
     },
     "metadata": {
      "needs_background": "light"
     },
     "output_type": "display_data"
    }
   ],
   "source": [
    "Scowl_plot=plot_feature_distribution('Scowl',features_new)"
   ]
  },
  {
   "cell_type": "code",
   "execution_count": 129,
   "id": "0120031b",
   "metadata": {},
   "outputs": [
    {
     "data": {
      "image/png": "[encoded data removed]",
      "text/plain": [
       "<Figure size 432x288 with 1 Axes>"
      ]
     },
     "metadata": {
      "needs_background": "light"
     },
     "output_type": "display_data"
    }
   ],
   "source": [
    "gazeDown_plot=plot_feature_distribution('gazeDown',features_new)"
   ]
  },
  {
   "cell_type": "code",
   "execution_count": 130,
   "id": "7bc129af",
   "metadata": {},
   "outputs": [
    {
     "data": {
      "image/png": "[encoded data removed]",
      "text/plain": [
       "<Figure size 432x288 with 1 Axes>"
      ]
     },
     "metadata": {
      "needs_background": "light"
     },
     "output_type": "display_data"
    }
   ],
   "source": [
    "gazeSide_plot=plot_feature_distribution('gazeSide',features_new)"
   ]
  },
  {
   "cell_type": "code",
   "execution_count": null,
   "id": "3f2ec698",
   "metadata": {},
   "outputs": [],
   "source": []
  }
 ],
 "metadata": {
  "kernelspec": {
   "display_name": "Python 3",
   "language": "python",
   "name": "python3"
  },
  "language_info": {
   "codemirror_mode": {
    "name": "ipython",
    "version": 3
   },
   "file_extension": ".py",
   "mimetype": "text/x-python",
   "name": "python",
   "nbconvert_exporter": "python",
   "pygments_lexer": "ipython3",
   "version": "3.8.8"
  }
 },
 "nbformat": 4,
 "nbformat_minor": 5
}
