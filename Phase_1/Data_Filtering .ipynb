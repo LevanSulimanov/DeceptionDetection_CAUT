{
 "cells": [
  {
   "cell_type": "markdown",
   "id": "5812691e",
   "metadata": {},
   "source": [
    "### Creating a .csv for video lengths"
   ]
  },
  {
   "cell_type": "code",
   "execution_count": 4,
   "id": "f7966288",
   "metadata": {},
   "outputs": [],
   "source": [
    "import cv2\n",
    "import os\n",
    "import csv\n",
    "\n",
    "# Set the directory containing the videos\n",
    "video_dir = r'/Users/shreya/606 Capstone/Video_chunks/Truth_lie'\n",
    "\n",
    "# Create a list to store the video filenames and their lengths\n",
    "videos = []\n",
    "\n",
    "# Loop through each file in the directory\n",
    "for filename in os.listdir(video_dir):\n",
    "    if filename.endswith(\".mp4\"):  # Check if the file is a video file\n",
    "        filepath = os.path.join(video_dir, filename)\n",
    "        # Use OpenCV to read the video and get its length\n",
    "        cap = cv2.VideoCapture(filepath)\n",
    "        length = int(cap.get(cv2.CAP_PROP_FRAME_COUNT) / cap.get(cv2.CAP_PROP_FPS))\n",
    "        cap.release()\n",
    "        # Add the filename and length to the list\n",
    "        videos.append((filename, length))\n",
    "\n",
    "# Write the list to a CSV file\n",
    "with open(\"video_lengths.xlsx\", \"w\", newline=\"\") as csvfile:\n",
    "    writer = csv.writer(csvfile)\n",
    "    writer.writerow([\"Filename\", \"Length (seconds)\"])\n",
    "    for video in videos:\n",
    "        writer.writerow(video)\n"
   ]
  },
  {
   "cell_type": "markdown",
   "id": "893788e9",
   "metadata": {},
   "source": [
    "### Creating a filtered .csv for videos of 3secs and above"
   ]
  },
  {
   "cell_type": "code",
   "execution_count": 3,
   "id": "c965ce99",
   "metadata": {},
   "outputs": [],
   "source": [
    "\n",
    "# Set the directory containing the videos\n",
    "video_dir = r'/Users/shreya/606 Capstone/Video_chunks/Truth_lie'\n",
    "\n",
    "# Create a list to store the video filenames and their lengths\n",
    "videos = []\n",
    "\n",
    "# Loop through each file in the directory\n",
    "for filename in os.listdir(video_dir):\n",
    "    if filename.endswith(\".mp4\"):  # Check if the file is a video file\n",
    "        filepath = os.path.join(video_dir, filename)\n",
    "        # Use OpenCV to read the video and get its length\n",
    "        cap = cv2.VideoCapture(filepath)\n",
    "        length = int(cap.get(cv2.CAP_PROP_FRAME_COUNT) / cap.get(cv2.CAP_PROP_FPS))\n",
    "        cap.release()\n",
    "        if length >= 3:  # Check if the video length is greater than or equal to 3 seconds\n",
    "            # Add the filename and length to the list\n",
    "            videos.append((filename, length))\n",
    "\n",
    "# Write the filtered list to a CSV file\n",
    "with open(\"video_lengths_filtered.xlsx\", \"w\", newline=\"\") as csvfile:\n",
    "    writer = csv.writer(csvfile)\n",
    "    writer.writerow([\"Filename\", \"Length (seconds)\"])\n",
    "    for video in videos:\n",
    "        writer.writerow(video)\n"
   ]
  },
  {
   "cell_type": "code",
   "execution_count": 6,
   "id": "37df53c9",
   "metadata": {
    "scrolled": true
   },
   "outputs": [
    {
     "name": "stdout",
     "output_type": "stream",
     "text": [
      "Collecting moviepy\n",
      "  Downloading moviepy-1.0.3.tar.gz (388 kB)\n",
      "\u001b[K     |████████████████████████████████| 388 kB 1.9 MB/s eta 0:00:01\n",
      "\u001b[?25hCollecting decorator<5.0,>=4.0.2\n",
      "  Downloading decorator-4.4.2-py2.py3-none-any.whl (9.2 kB)\n",
      "Requirement already satisfied: tqdm<5.0,>=4.11.2 in /Users/shreya/opt/anaconda3/lib/python3.8/site-packages (from moviepy) (4.59.0)\n",
      "Requirement already satisfied: requests<3.0,>=2.8.1 in /Users/shreya/opt/anaconda3/lib/python3.8/site-packages (from moviepy) (2.25.1)\n",
      "Collecting proglog<=1.0.0\n",
      "  Downloading proglog-0.1.10-py3-none-any.whl (6.1 kB)\n",
      "Requirement already satisfied: numpy>=1.17.3 in /Users/shreya/opt/anaconda3/lib/python3.8/site-packages (from moviepy) (1.20.1)\n",
      "Requirement already satisfied: imageio<3.0,>=2.5 in /Users/shreya/opt/anaconda3/lib/python3.8/site-packages (from moviepy) (2.9.0)\n",
      "Collecting imageio_ffmpeg>=0.2.0\n",
      "  Downloading imageio_ffmpeg-0.4.8-py3-none-macosx_10_9_intel.macosx_10_9_x86_64.macosx_10_10_intel.macosx_10_10_x86_64.whl (22.5 MB)\n",
      "\u001b[K     |████████████████████████████████| 22.5 MB 6.5 MB/s eta 0:00:01\n",
      "\u001b[?25hRequirement already satisfied: pillow in /Users/shreya/opt/anaconda3/lib/python3.8/site-packages (from imageio<3.0,>=2.5->moviepy) (8.2.0)\n",
      "Requirement already satisfied: urllib3<1.27,>=1.21.1 in /Users/shreya/opt/anaconda3/lib/python3.8/site-packages (from requests<3.0,>=2.8.1->moviepy) (1.26.4)\n",
      "Requirement already satisfied: certifi>=2017.4.17 in /Users/shreya/opt/anaconda3/lib/python3.8/site-packages (from requests<3.0,>=2.8.1->moviepy) (2020.12.5)\n",
      "Requirement already satisfied: idna<3,>=2.5 in /Users/shreya/opt/anaconda3/lib/python3.8/site-packages (from requests<3.0,>=2.8.1->moviepy) (2.10)\n",
      "Requirement already satisfied: chardet<5,>=3.0.2 in /Users/shreya/opt/anaconda3/lib/python3.8/site-packages (from requests<3.0,>=2.8.1->moviepy) (4.0.0)\n",
      "Building wheels for collected packages: moviepy\n",
      "  Building wheel for moviepy (setup.py) ... \u001b[?25ldone\n",
      "\u001b[?25h  Created wheel for moviepy: filename=moviepy-1.0.3-py3-none-any.whl size=110726 sha256=3ce52240102e548aaa81ca0ba54c8ece108ed3fab09c25dc7708858cad803745\n",
      "  Stored in directory: /Users/shreya/Library/Caches/pip/wheels/e4/a4/db/0368d3a04033da662e13926594b3a8cf1aa4ffeefe570cfac1\n",
      "Successfully built moviepy\n",
      "Installing collected packages: proglog, imageio-ffmpeg, decorator, moviepy\n",
      "  Attempting uninstall: decorator\n",
      "    Found existing installation: decorator 5.0.6\n",
      "    Uninstalling decorator-5.0.6:\n",
      "      Successfully uninstalled decorator-5.0.6\n",
      "Successfully installed decorator-4.4.2 imageio-ffmpeg-0.4.8 moviepy-1.0.3 proglog-0.1.10\n",
      "Note: you may need to restart the kernel to use updated packages.\n"
     ]
    }
   ],
   "source": [
    "pip install moviepy\n"
   ]
  },
  {
   "cell_type": "markdown",
   "id": "df6ebfdf",
   "metadata": {},
   "source": [
    "### Extracting audio files from the video files"
   ]
  },
  {
   "cell_type": "code",
   "execution_count": 25,
   "id": "801cc994",
   "metadata": {},
   "outputs": [],
   "source": [
    "from moviepy.editor import *\n",
    "\n",
    "# Set the input and output directories\n",
    "input_dir = r'/Users/shreya/606 Capstone/Video_chunks/Truth_Lie_audio_filtered'\n",
    "output_dir = r'/Users/shreya/606 CapstoneVideo_chunks/Truth_Lie_audio_filtered'\n",
    "\n",
    "# Create the output directory if it doesn't exist\n",
    "if not os.path.exists(output_dir):\n",
    "    os.makedirs(output_dir)\n",
    "\n",
    "# Loop through all the files in the input directory\n",
    "for filename in os.listdir(input_dir):\n",
    "    if filename.endswith(\".mp4\"):\n",
    "        # Set the input and output file paths\n",
    "        input_path = os.path.join(input_dir, filename)\n",
    "        output_path = os.path.join(output_dir, os.path.splitext(filename)[0] + \".mp3\")\n",
    "\n",
    "        # Load the video file\n",
    "        video = VideoFileClip(input_path)\n",
    "\n",
    "        # Extract the audio and save it as an MP3 file\n",
    "        audio = video.audio\n",
    "        if audio.duration >= 3:\n",
    "            audio.write_audiofile(output_path)\n",
    "\n",
    "        # Close the video and audio clips\n",
    "        video.close()\n",
    "        audio.close()\n"
   ]
  },
  {
   "cell_type": "code",
   "execution_count": null,
   "id": "52608796",
   "metadata": {},
   "outputs": [],
   "source": []
  },
  {
   "cell_type": "code",
   "execution_count": null,
   "id": "070966cb",
   "metadata": {},
   "outputs": [],
   "source": []
  }
 ],
 "metadata": {
  "kernelspec": {
   "display_name": "Python 3",
   "language": "python",
   "name": "python3"
  },
  "language_info": {
   "codemirror_mode": {
    "name": "ipython",
    "version": 3
   },
   "file_extension": ".py",
   "mimetype": "text/x-python",
   "name": "python",
   "nbconvert_exporter": "python",
   "pygments_lexer": "ipython3",
   "version": "3.8.8"
  }
 },
 "nbformat": 4,
 "nbformat_minor": 5
}
