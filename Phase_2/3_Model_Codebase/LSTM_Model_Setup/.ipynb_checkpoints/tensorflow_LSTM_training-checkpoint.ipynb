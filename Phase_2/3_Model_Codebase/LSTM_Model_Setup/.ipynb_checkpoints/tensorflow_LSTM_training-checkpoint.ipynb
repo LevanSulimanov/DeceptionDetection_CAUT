{
 "cells": [
  {
   "cell_type": "code",
   "execution_count": 1,
   "id": "27884eb5",
   "metadata": {
    "scrolled": false
   },
   "outputs": [],
   "source": [
    "# Importing our Utilities functions:\n",
    "from utils import CautDataloaderRegular\n",
    "import os\n",
    "import pandas as pd\n",
    "import numpy as np\n",
    "import math\n",
    "import matplotlib.pyplot as plt\n",
    "\n",
    "\n",
    "# Modelling\n",
    "import pandas as pd\n",
    "import tensorflow as tf\n",
    "from tensorflow.keras.models import Sequential\n",
    "from tensorflow.keras.layers import Dense, Dropout\n",
    "from keras.layers import LSTM\n",
    "\n",
    "from sklearn.metrics import accuracy_score, confusion_matrix, precision_score, recall_score, ConfusionMatrixDisplay\n",
    "from sklearn.model_selection import RandomizedSearchCV, train_test_split\n",
    "from scipy.stats import randint\n",
    "\n",
    "\n",
    "\n",
    "# 64, 32\n",
    "# 32, 16\n",
    "def LSTM_grid_search(lstm_feat_size_lst=[16, 32, 64, 128, 256],\n",
    "                     inner_dense_layer_size_lst=[16, 32, 64, 128, 256],\n",
    "                     epoch_num=100,\n",
    "                     batch_size=32):\n",
    "    for lstm_feat_size_tmp in lstm_feat_size_lst:\n",
    "        for inner_dense_size_tmp in inner_dense_layer_size_lst:\n",
    "            print(\">>>>>>>>>>>>>>>>>>>>>>>>>>>>>>>>>>>>>>>>>>\")\n",
    "            print(f\"LSTM Layer Size       : {lstm_feat_size_tmp}\")\n",
    "            print(f\"Inner Dense Layer Size: {inner_dense_size_tmp}\")\n",
    "            print(f\"Epoch Num             : {epoch_num}\")\n",
    "            LSTM_Model(data_mode=\"MediaPipe\",\n",
    "                       csv_path=\"../../../data/data_split_paths_CSVs/\",\n",
    "                       data_dir=\"../../../data/visual_features/MediaPipe/mediaPipe_keypoints_data_UPD\",\n",
    "                       lstm_features_size=lstm_feat_size_tmp,\n",
    "                       inner_dense_size=inner_dense_size_tmp,\n",
    "                       epochs_num=epoch_num,\n",
    "                       batch_size=batch_size,\n",
    "                       threshold=0.5,\n",
    "                       train_verbose=False)\n",
    "            print(\"\\n\\n\")\n",
    "            print(\"##########################################\")\n",
    "            \n",
    "        \n",
    "# # Do grid search:\n",
    "# LSTM_grid_search(lstm_feat_size_lst=[16, 32, 64, 128, 256],\n",
    "#                  inner_dense_layer_size_lst=[16, 32, 64, 128, 256],\n",
    "#                  epoch_num=100,\n",
    "#                  batch_size=32)\n",
    "\n",
    "\n",
    "\n",
    "def LSTM_Model(data_mode,\n",
    "               csv_path,\n",
    "               data_dir,\n",
    "               lstm_features_size,\n",
    "               inner_dense_size,\n",
    "               epochs_num,\n",
    "               approach_type=None,\n",
    "               batch_size=32,\n",
    "               threshold=0.5,\n",
    "               train_verbose=True):\n",
    "\n",
    "    X_y_data = CautDataloaderRegular.get_X_y_TrainTest(csv_path=csv_path,\n",
    "                                                       data_dir=data_dir,\n",
    "                                                       data_mode=data_mode,\n",
    "                                                       approach_type=approach_type,\n",
    "                                                       verbose=False)\n",
    "    \n",
    "    X_train, y_train = X_y_data[0], X_y_data[1]\n",
    "    X_test, y_test = X_y_data[2], X_y_data[3]\n",
    "    \n",
    "    print(X_train.shape, y_train.shape, X_test.shape, y_test.shape)\n",
    "    \n",
    "    # setup model's input length, feature amount, and expected class num\n",
    "    n_timesteps = X_train.shape[1]\n",
    "    n_features = X_train.shape[2]\n",
    "    n_outputs = 1\n",
    "    \n",
    "    # lstm_features_size, inner_dense_size => default 100\n",
    "    \n",
    "    # Setup model:\n",
    "    model = Sequential()\n",
    "    model.add(LSTM(lstm_features_size, input_shape=(n_timesteps,n_features)))\n",
    "    model.add(Dropout(0.5))\n",
    "    model.add(Dense(inner_dense_size, activation='relu'))\n",
    "    model.add(Dense(n_outputs, activation='sigmoid'))\n",
    "    model.compile(loss='binary_crossentropy',\n",
    "                  optimizer='adam',\n",
    "                  metrics=['accuracy'])\n",
    "    \n",
    "    # fit network\n",
    "    epochs = epochs_num\n",
    "    batch_size = 32\n",
    "    train_verbose = train_verbose\n",
    "    # also, add Early stopping:\n",
    "    early_stopping_callback = tf.keras.callbacks.EarlyStopping(monitor='loss',\n",
    "                                                               patience=15)\n",
    "    \n",
    "    model.fit(X_train,\n",
    "              y_train,\n",
    "              epochs=epochs,\n",
    "              batch_size=batch_size,\n",
    "              callbacks=[early_stopping_callback],\n",
    "              verbose=train_verbose)\n",
    "    \n",
    "    # evaluate model\n",
    "    _, accuracy = model.evaluate(X_test,\n",
    "                                 y_test,\n",
    "                                 batch_size=batch_size,\n",
    "                                 verbose=0)\n",
    "    \n",
    "    # predict on test data:\n",
    "    y_pred = model.predict(X_test, batch_size=32) \n",
    "    y_pred = np.where(y_pred > threshold, 1, 0)\n",
    "    \n",
    "    # get metrics (accuracy, precision, recall)\n",
    "    accuracy = accuracy_score(y_test, y_pred)\n",
    "    precision = precision_score(y_test, y_pred)\n",
    "    recall = recall_score(y_test, y_pred)\n",
    "    # log accuracy:\n",
    "    print(\"Accuracy:\", accuracy)\n",
    "    print(\"Precision\", precision)\n",
    "    print(\"Recall\", recall)\n",
    "    \n",
    "    # show confusion matrix\n",
    "    confusion = confusion_matrix(y_test, y_pred)\n",
    "    cm_display = ConfusionMatrixDisplay(confusion_matrix = confusion, display_labels = [False, True])\n",
    "    plt.figure()\n",
    "    cm_display.plot()\n",
    "    plt.show()"
   ]
  },
  {
   "cell_type": "markdown",
   "id": "333ab66a",
   "metadata": {},
   "source": [
    "# MediaPipe (Sequential only, since LSTM can only do sequences):"
   ]
  },
  {
   "cell_type": "code",
   "execution_count": 9,
   "id": "df65269a",
   "metadata": {},
   "outputs": [
    {
     "name": "stdout",
     "output_type": "stream",
     "text": [
      "\n",
      "Selected csv_path: ../../../data/data_split_paths_CSVs/\n",
      "(520, 90, 36) (520,) (223, 90, 36) (223,)\n",
      "7/7 [==============================] - 1s 18ms/step\n",
      "Accuracy: 0.7713004484304933\n",
      "Precision 0.8850574712643678\n",
      "Recall 0.652542372881356\n"
     ]
    },
    {
     "data": {
      "text/plain": [
       "<Figure size 640x480 with 0 Axes>"
      ]
     },
     "metadata": {},
     "output_type": "display_data"
    },
    {
     "data": {
      "image/png": "[encoded data removed]",
      "text/plain": [
       "<Figure size 640x480 with 2 Axes>"
      ]
     },
     "metadata": {},
     "output_type": "display_data"
    }
   ],
   "source": [
    "LSTM_Model(data_mode=\"MediaPipe\",\n",
    "           csv_path=\"../../../data/data_split_paths_CSVs/\",\n",
    "           data_dir=\"../../../data/visual_features/MediaPipe/mediaPipe_keypoints_data_UPD\",\n",
    "           lstm_features_size=100,\n",
    "           inner_dense_size=32,\n",
    "           epochs_num=100,\n",
    "           batch_size=32,\n",
    "           approach_type=None,\n",
    "           threshold=0.5,\n",
    "           train_verbose=False)"
   ]
  },
  {
   "cell_type": "markdown",
   "id": "4f138834",
   "metadata": {},
   "source": [
    "# OpenFace (Sequential only, since LSTM can only do sequences):"
   ]
  },
  {
   "cell_type": "code",
   "execution_count": 7,
   "id": "c201342b",
   "metadata": {},
   "outputs": [
    {
     "name": "stdout",
     "output_type": "stream",
     "text": [
      "\n",
      "Selected csv_path: ../../../data/data_split_paths_CSVs/\n",
      "Casting collected data to .npy array type...\n",
      "Data is collected. Returning X and y data.\n",
      "-----------------------------------\n",
      "Casting collected data to .npy array type...\n",
      "Data is collected. Returning X and y data.\n",
      "-----------------------------------\n",
      "(520, 90, 27) (520,) (222, 90, 27) (222,)\n",
      "7/7 [==============================] - 1s 60ms/step\n",
      "Accuracy: 0.47297297297297297\n",
      "Precision 0.0\n",
      "Recall 0.0\n"
     ]
    },
    {
     "name": "stderr",
     "output_type": "stream",
     "text": [
      "C:\\Users\\lrspr\\anaconda3\\envs\\caut_training\\lib\\site-packages\\sklearn\\metrics\\_classification.py:1344: UndefinedMetricWarning: Precision is ill-defined and being set to 0.0 due to no predicted samples. Use `zero_division` parameter to control this behavior.\n",
      "  _warn_prf(average, modifier, msg_start, len(result))\n"
     ]
    },
    {
     "data": {
      "text/plain": [
       "<Figure size 640x480 with 0 Axes>"
      ]
     },
     "metadata": {},
     "output_type": "display_data"
    },
    {
     "data": {
      "image/png": "[encoded data removed]",
      "text/plain": [
       "<Figure size 640x480 with 2 Axes>"
      ]
     },
     "metadata": {},
     "output_type": "display_data"
    }
   ],
   "source": [
    "LSTM_Model(data_mode=\"OpenFace\",\n",
    "           csv_path=\"../../../data/data_split_paths_CSVs/\",\n",
    "           data_dir=\"../../../data/visual_features/OpenFace/PyFeatOutput/OpenFace\",\n",
    "           lstm_features_size=256,\n",
    "           inner_dense_size=64,\n",
    "           epochs_num=100,\n",
    "           approach_type=\"sequential\",\n",
    "           batch_size=32,\n",
    "           threshold=0.5,\n",
    "           train_verbose=False)"
   ]
  },
  {
   "cell_type": "code",
   "execution_count": null,
   "id": "0e143c1c",
   "metadata": {},
   "outputs": [],
   "source": []
  }
 ],
 "metadata": {
  "kernelspec": {
   "display_name": "Python 3 (ipykernel)",
   "language": "python",
   "name": "python3"
  },
  "language_info": {
   "codemirror_mode": {
    "name": "ipython",
    "version": 3
   },
   "file_extension": ".py",
   "mimetype": "text/x-python",
   "name": "python",
   "nbconvert_exporter": "python",
   "pygments_lexer": "ipython3",
   "version": "3.10.9"
  }
 },
 "nbformat": 4,
 "nbformat_minor": 5
}
