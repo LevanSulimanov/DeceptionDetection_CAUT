{
 "cells": [
  {
   "cell_type": "code",
   "execution_count": 1,
   "id": "27884eb5",
   "metadata": {
    "scrolled": false
   },
   "outputs": [],
   "source": [
    "# Importing our Utilities functions:\n",
    "from utils import CautDataloaderRegular\n",
    "import os\n",
    "import pandas as pd\n",
    "import numpy as np\n",
    "import math\n",
    "import matplotlib.pyplot as plt\n",
    "\n",
    "\n",
    "# Modelling\n",
    "import pandas as pd\n",
    "import tensorflow as tf\n",
    "from tensorflow.keras.models import Sequential\n",
    "from tensorflow.keras.layers import Dense, Dropout\n",
    "from keras.layers import LSTM\n",
    "\n",
    "from sklearn.metrics import accuracy_score, confusion_matrix, precision_score, recall_score, ConfusionMatrixDisplay\n",
    "from sklearn.model_selection import RandomizedSearchCV, train_test_split\n",
    "from scipy.stats import randint\n",
    "\n",
    "def RFR_Model_Audio(csv_path,\n",
    "                     data_dir,\n",
    "                     feature_type=\"MFCC\",\n",
    "                     threshold=0.5,\n",
    "                     train_verbose=True):\n",
    "\n",
    "    X_y_data = CautDataloaderRegular.get_X_y_TrainTest_Audio(csv_path=csv_path,\n",
    "                                                             data_dir=data_dir,\n",
    "                                                             feature_type=feature_type,\n",
    "                                                             input_length_in_seconds=3,\n",
    "                                                             class_to_num_dict={\"truth\": 0, \"lie\": 1},\n",
    "                                                             verbose=train_verbose)\n",
    "    \n",
    "    X_train, y_train = X_y_data[0].reshape(-1, X_y_data[0].shape[1] * X_y_data[0].shape[2]), X_y_data[1]\n",
    "    X_test, y_test = X_y_data[2].reshape(-1, X_y_data[2].shape[1] * X_y_data[2].shape[2]), X_y_data[3]\n",
    "\n",
    "    print(X_train.shape, y_train.shape, X_test.shape, y_test.shape)\n",
    "    \n",
    "    # Setup model:\n",
    "    #fitting and evaluating\n",
    "    rf = RandomForestClassifier(n_estimators=120)\n",
    "    \n",
    "    # fit the model:\n",
    "    rf.fit(X_train, y_train)\n",
    "    \n",
    "     # predict on test data:\n",
    "    y_pred = rf.predict(X_test)\n",
    "    \n",
    "    # get metrics (accuracy, precision, recall)\n",
    "    accuracy = accuracy_score(y_test, y_pred)\n",
    "    precision = precision_score(y_test, y_pred)\n",
    "    recall = recall_score(y_test, y_pred)\n",
    "    print(\"Accuracy:\", accuracy)\n",
    "    print(\"Precision\", precision)\n",
    "    print(\"Recall\", recall)\n",
    "    \n",
    "    # show confusion matrix\n",
    "    CautDataloaderRegular.plot_confusion_matrix(y_test, y_pred)"
   ]
  },
  {
   "cell_type": "markdown",
   "id": "333ab66a",
   "metadata": {},
   "source": [
    "# MediaPipe (Sequential only, since LSTM can only do sequences):"
   ]
  },
  {
   "cell_type": "code",
   "execution_count": 2,
   "id": "df65269a",
   "metadata": {
    "scrolled": false
   },
   "outputs": [
    {
     "name": "stdout",
     "output_type": "stream",
     "text": [
      "data_dir updated to: C:\\Work\\606Capstone\\Video_chunks\\audio_features\\MFCC_audio_features\n",
      "\n",
      "Selected csv_path: C:\\Work\\606Capstone\\Video_chunks\\CSV\\\n",
      "Processed 100 / 520\n",
      "  - Audio sample shape & label:\n",
      "    - X_data: (130, 20)\n",
      "    - y_data: 0\n",
      "Processed 200 / 520\n",
      "  - Audio sample shape & label:\n",
      "    - X_data: (130, 20)\n",
      "    - y_data: 0\n",
      "Processed 300 / 520\n",
      "  - Audio sample shape & label:\n",
      "    - X_data: (130, 20)\n",
      "    - y_data: 1\n",
      "Processed 400 / 520\n",
      "  - Audio sample shape & label:\n",
      "    - X_data: (130, 20)\n",
      "    - y_data: 0\n",
      "Processed 500 / 520\n",
      "  - Audio sample shape & label:\n",
      "    - X_data: (130, 20)\n",
      "    - y_data: 1\n",
      "Processed 100 / 223\n",
      "  - Audio sample shape & label:\n",
      "    - X_data: (130, 20)\n",
      "    - y_data: 1\n",
      "Processed 200 / 223\n",
      "  - Audio sample shape & label:\n",
      "    - X_data: (130, 20)\n",
      "    - y_data: 1\n",
      "----------------------------\n",
      "Gathered data shapes:\n",
      "X_train.shape: (520, 130, 20)\n",
      "y_train.shape: (520,)\n",
      "X_test.shape: (223, 130, 20)\n",
      "y_test.shape: (223,)\n",
      "(520, 2600) (520,) (223, 2600) (223,)\n"
     ]
    },
    {
     "data": {
      "application/javascript": [
       "\n",
       "        if (window._pyforest_update_imports_cell) { window._pyforest_update_imports_cell('from sklearn.ensemble import RandomForestClassifier'); }\n",
       "    "
      ],
      "text/plain": [
       "<IPython.core.display.Javascript object>"
      ]
     },
     "metadata": {},
     "output_type": "display_data"
    },
    {
     "name": "stdout",
     "output_type": "stream",
     "text": [
      "Accuracy: 0.7713004484304933\n",
      "Precision 0.7815126050420168\n",
      "Recall 0.788135593220339\n"
     ]
    },
    {
     "data": {
      "image/png": "[encoded data removed]",
      "text/plain": [
       "<Figure size 432x288 with 2 Axes>"
      ]
     },
     "metadata": {
      "needs_background": "light"
     },
     "output_type": "display_data"
    },
    {
     "name": "stdout",
     "output_type": "stream",
     "text": [
      "---------------------------------------------------------------\n",
      "\n",
      "Metrics Rates:\n",
      "     - True Positive            : 93\n",
      "     - False Positive           : 26\n",
      "     - True Negative            : 79\n",
      "     - False Negative           : 25\n",
      "     - True Positive Rate       :  0.788135593220339\n",
      "     - True Negative Rate       :  0.7523809523809524\n",
      "     - Positive Predictive Value:  0.7815126050420168\n",
      "     - Negative predictive value:  0.7596153846153846\n",
      "     - False Positive Rate      :  0.24761904761904763\n",
      "     - False Negative Rate      :  0.211864406779661\n",
      "     - False Discovery Rate     :  0.2184873949579832\n"
     ]
    }
   ],
   "source": [
    "RFR_Model_Audio(csv_path=\"C:\\\\Work\\\\606Capstone\\\\Video_chunks\\\\CSV\\\\\",\n",
    "                 data_dir=\"C:\\\\Work\\\\606Capstone\\\\Video_chunks\\\\audio_features\\\\\",\n",
    "                 feature_type=\"MFCC\",\n",
    "                 threshold=0.5,\n",
    "                 train_verbose=True)"
   ]
  }
 ],
 "metadata": {
  "kernelspec": {
   "display_name": "Python 3 (ipykernel)",
   "language": "python",
   "name": "python3"
  },
  "language_info": {
   "codemirror_mode": {
    "name": "ipython",
    "version": 3
   },
   "file_extension": ".py",
   "mimetype": "text/x-python",
   "name": "python",
   "nbconvert_exporter": "python",
   "pygments_lexer": "ipython3",
   "version": "3.9.7"
  }
 },
 "nbformat": 4,
 "nbformat_minor": 5
}
