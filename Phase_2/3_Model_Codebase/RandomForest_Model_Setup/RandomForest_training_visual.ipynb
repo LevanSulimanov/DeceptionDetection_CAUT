{
 "cells": [
  {
   "cell_type": "markdown",
   "id": "6dfc0833",
   "metadata": {},
   "source": [
    "# Declare Random Forest (add hyperparams, etc. as needed):"
   ]
  },
  {
   "cell_type": "code",
   "execution_count": 1,
   "id": "d7cf9062",
   "metadata": {},
   "outputs": [],
   "source": [
    "import _pickle as cPickle\n",
    "def RFR_export_model(rfr,file_path):\n",
    "    with open(file_path, 'wb') as f:\n",
    "        cPickle.dump(rfr, f)"
   ]
  },
  {
   "cell_type": "code",
   "execution_count": 2,
   "id": "ac38240f",
   "metadata": {
    "scrolled": false
   },
   "outputs": [],
   "source": [
    "# Importing our Utilities functions:\n",
    "from utils import CautDataloaderRegular\n",
    "import os\n",
    "import pandas as pd\n",
    "import numpy as np\n",
    "import math\n",
    "import matplotlib.pyplot as plt\n",
    "import matplotlib.colors as mcolors\n",
    "import numpy as np\n",
    "\n",
    "\n",
    "# Modelling\n",
    "from sklearn.ensemble import RandomForestClassifier\n",
    "from sklearn.metrics import accuracy_score, confusion_matrix, precision_score, recall_score, ConfusionMatrixDisplay\n",
    "from sklearn.model_selection import RandomizedSearchCV, train_test_split\n",
    "from scipy.stats import randint\n",
    "    \n",
    "def RFR_Model(data_mode,\n",
    "              csv_path,\n",
    "              data_dir,\n",
    "              approach_type,\n",
    "              batch_size=32,\n",
    "              threshold=0.5,\n",
    "              train_verbose=True):\n",
    "\n",
    "    X_y_data = CautDataloaderRegular.get_X_y_TrainTest_Visual(csv_path=\"C:\\\\Work\\\\606Capstone\\\\Video_chunks\\\\CSV\\\\\",\n",
    "                                                       data_dir=data_dir,\n",
    "                                                       data_mode=data_mode,\n",
    "                                                       approach_type=approach_type,  # sequential\",\n",
    "                                                       verbose=True)\n",
    "    \n",
    "    if data_mode == \"OpenFace\" and approach_type == \"average\":\n",
    "        X_train, y_train = X_y_data[0], X_y_data[1]\n",
    "        X_test, y_test = X_y_data[2], X_y_data[3]\n",
    "    else:\n",
    "        X_train, y_train = X_y_data[0].reshape(-1, X_y_data[0].shape[1] * X_y_data[0].shape[2]), X_y_data[1]\n",
    "        X_test, y_test = X_y_data[2].reshape(-1, X_y_data[2].shape[1] * X_y_data[2].shape[2]), X_y_data[3]\n",
    "        X_train[np.isnan(X_train)] = 0\n",
    "        X_test[np.isnan(X_test)] = 0\n",
    "    \n",
    "    # Setup model:\n",
    "    #fitting and evaluating\n",
    "    rf = RandomForestClassifier(n_estimators=120)\n",
    "    \n",
    "    # fit the model:\n",
    "    rf.fit(X_train, y_train)\n",
    "    \n",
    "    # predict on test data:\n",
    "    y_pred = rf.predict(X_test)\n",
    "    \n",
    "    # get metrics (accuracy, precision, recall)\n",
    "    accuracy = accuracy_score(y_test, y_pred)\n",
    "    precision = precision_score(y_test, y_pred)\n",
    "    recall = recall_score(y_test, y_pred)\n",
    "    print(\"Accuracy:\", accuracy)\n",
    "    print(\"Precision\", precision)\n",
    "    print(\"Recall\", recall)\n",
    "    \n",
    "    # show confusion matrix\n",
    "    CautDataloaderRegular.plot_confusion_matrix(y_test, y_pred)\n",
    "    return rf"
   ]
  },
  {
   "cell_type": "markdown",
   "id": "38426172",
   "metadata": {},
   "source": [
    "# OpenFace Average:"
   ]
  },
  {
   "cell_type": "code",
   "execution_count": 3,
   "id": "d3fb6b0b",
   "metadata": {},
   "outputs": [
    {
     "name": "stdout",
     "output_type": "stream",
     "text": [
      "\n",
      "Selected csv_path: C:\\Work\\606Capstone\\Video_chunks\\CSV\\\n",
      "Processed 100 / 520\n",
      "  - Sample shape & label:\n",
      "    - X_data: (27,)\n",
      "    - y_data: 0\n",
      "Processed 200 / 520\n",
      "  - Sample shape & label:\n",
      "    - X_data: (27,)\n",
      "    - y_data: 0\n",
      "Video failed to be processed by OpenFace. Videoname=trial_truth_025_007.\n",
      "Processed 300 / 520\n",
      "  - Sample shape & label:\n",
      "    - X_data: (27,)\n",
      "    - y_data: 0\n",
      "Video failed to be processed by OpenFace. Videoname=trial_lie_053_007.\n",
      "Processed 400 / 520\n",
      "  - Sample shape & label:\n",
      "    - X_data: (27,)\n",
      "    - y_data: 1\n",
      "Processed 500 / 520\n",
      "  - Sample shape & label:\n",
      "    - X_data: (27,)\n",
      "    - y_data: 0\n",
      "Casting collected data to .npy array type...\n",
      "Data is collected. Returning X and y data.\n",
      "@@@@@@@@@@@@@@@@@@@@@@@@@@@@@@@@@@@@@@@@@@@@@@@@@@@@@@@@@\n",
      "\n",
      "\n",
      "Processed 100 / 223\n",
      "  - Sample shape & label:\n",
      "    - X_data: (27,)\n",
      "    - y_data: 1\n",
      "Video failed to be processed by OpenFace. Videoname=trial_lie_053_002.\n",
      "Video failed to be processed by OpenFace. Videoname=trial_truth_025_008.\n",
      "Video failed to be processed by OpenFace. Videoname=trial_lie_053_006.\n",
      "Video failed to be processed by OpenFace. Videoname=trial_lie_015_008.\n",
      "Processed 200 / 223\n",
      "  - Sample shape & label:\n",
      "    - X_data: (27,)\n",
      "    - y_data: 1\n",
      "Casting collected data to .npy array type...\n",
      "Data is collected. Returning X and y data.\n",
      "@@@@@@@@@@@@@@@@@@@@@@@@@@@@@@@@@@@@@@@@@@@@@@@@@@@@@@@@@\n",
      "\n",
      "\n",
      "Accuracy: 0.867579908675799\n",
      "Precision 0.8909090909090909\n",
      "Recall 0.8521739130434782\n"
     ]
    },
    {
     "data": {
      "image/png": "[encoded data removed]",
      "text/plain": [
       "<Figure size 432x288 with 2 Axes>"
      ]
     },
     "metadata": {
      "needs_background": "light"
     },
     "output_type": "display_data"
    },
    {
     "name": "stdout",
     "output_type": "stream",
     "text": [
      "---------------------------------------------------------------\n",
      "\n",
      "Metrics Rates:\n",
      "     - True Positive            : 98\n",
      "     - False Positive           : 12\n",
      "     - True Negative            : 92\n",
      "     - False Negative           : 17\n",
      "     - True Positive Rate       :  0.8521739130434782\n",
      "     - True Negative Rate       :  0.8846153846153846\n",
      "     - Positive Predictive Value:  0.8909090909090909\n",
      "     - Negative predictive value:  0.8440366972477065\n",
      "     - False Positive Rate      :  0.11538461538461539\n",
      "     - False Negative Rate      :  0.14782608695652175\n",
      "     - False Discovery Rate     :  0.10909090909090909\n"
     ]
    }
   ],
   "source": [
    "rfr = RFR_Model(data_mode=\"OpenFace\",\n",
    "          csv_path=\"C:\\\\Work\\\\606Capstone\\\\Video_chunks\\\\CSV\\\\\",\n",
    "          data_dir=\"C:\\\\Work\\\\606Capstone\\\\Video_chunks\\\\Excel\\\\\",\n",
    "          approach_type=\"average\",\n",
    "          threshold=0.5,\n",
    "          train_verbose=False)\n",
    "RFR_export_model(rfr,\"C:\\\\Work\\\\606Capstone\\\\Video_chunks\\\\Models\\\\OpenFaceAverage_RFR.pickle\")"
   ]
  },
  {
   "cell_type": "markdown",
   "id": "408d780d",
   "metadata": {},
   "source": [
    "# OpenFace Sequential:"
   ]
  },
  {
   "cell_type": "code",
   "execution_count": 4,
   "id": "f2d896ba",
   "metadata": {},
   "outputs": [
    {
     "name": "stdout",
     "output_type": "stream",
     "text": [
      "\n",
      "Selected csv_path: C:\\Work\\606Capstone\\Video_chunks\\CSV\\\n",
      "Processed 100 / 520\n",
      "  - Sample shape & label:\n",
      "    - X_data: (90, 27)\n",
      "    - y_data: 0\n",
      "Processed 200 / 520\n",
      "  - Sample shape & label:\n",
      "    - X_data: (90, 27)\n",
      "    - y_data: 0\n",
      "Processed 300 / 520\n",
      "  - Sample shape & label:\n",
      "    - X_data: (90, 27)\n",
      "    - y_data: 1\n",
      "Processed 400 / 520\n",
      "  - Sample shape & label:\n",
      "    - X_data: (90, 27)\n",
      "    - y_data: 0\n",
      "Processed 500 / 520\n",
      "  - Sample shape & label:\n",
      "    - X_data: (90, 27)\n",
      "    - y_data: 1\n",
      "Casting collected data to .npy array type...\n",
      "Data is collected. Returning X and y data.\n",
      "@@@@@@@@@@@@@@@@@@@@@@@@@@@@@@@@@@@@@@@@@@@@@@@@@@@@@@@@@\n",
      "\n",
      "\n",
      "Processed 100 / 223\n",
      "  - Sample shape & label:\n",
      "    - X_data: (90, 27)\n",
      "    - y_data: 1\n",
      "Processed 200 / 223\n",
      "  - Sample shape & label:\n",
      "    - X_data: (90, 27)\n",
      "    - y_data: 0\n",
      "Casting collected data to .npy array type...\n",
      "Data is collected. Returning X and y data.\n",
      "@@@@@@@@@@@@@@@@@@@@@@@@@@@@@@@@@@@@@@@@@@@@@@@@@@@@@@@@@\n",
      "\n",
      "\n",
      "Accuracy: 0.7837837837837838\n",
      "Precision 0.8108108108108109\n",
      "Recall 0.7692307692307693\n"
     ]
    },
    {
     "data": {
      "image/png": "[encoded data removed]",
      "text/plain": [
       "<Figure size 432x288 with 2 Axes>"
      ]
     },
     "metadata": {
      "needs_background": "light"
     },
     "output_type": "display_data"
    },
    {
     "name": "stdout",
     "output_type": "stream",
     "text": [
      "---------------------------------------------------------------\n",
      "\n",
      "Metrics Rates:\n",
      "     - True Positive            : 90\n",
      "     - False Positive           : 21\n",
      "     - True Negative            : 84\n",
      "     - False Negative           : 27\n",
      "     - True Positive Rate       :  0.7692307692307693\n",
      "     - True Negative Rate       :  0.8\n",
      "     - Positive Predictive Value:  0.8108108108108109\n",
      "     - Negative predictive value:  0.7567567567567568\n",
      "     - False Positive Rate      :  0.2\n",
      "     - False Negative Rate      :  0.23076923076923078\n",
      "     - False Discovery Rate     :  0.1891891891891892\n"
     ]
    }
   ],
   "source": [
    "rfr = RFR_Model(data_mode=\"OpenFace\",\n",
    "          csv_path=\"C:\\\\Work\\\\606Capstone\\\\Video_chunks\\\\CSV\\\\\",\n",
    "          data_dir=\"C:\\\\Work\\\\606Capstone\\\\Video_chunks\\\\Excel\\\\\",\n",
    "          approach_type=\"sequential\",\n",
    "          threshold=0.5,\n",
    "          train_verbose=False)\n",
    "RFR_export_model(rfr,\"C:\\\\Work\\\\606Capstone\\\\Video_chunks\\\\Models\\\\OpenFaceSequential_RFR.pickle\")"
   ]
  },
  {
   "cell_type": "markdown",
   "id": "fd7e1b30",
   "metadata": {},
   "source": [
    "# MediaPipe Sequential:"
   ]
  },
  {
   "cell_type": "code",
   "execution_count": 5,
   "id": "a0a2789d",
   "metadata": {},
   "outputs": [
    {
     "name": "stdout",
     "output_type": "stream",
     "text": [
      "\n",
      "Selected csv_path: C:\\Work\\606Capstone\\Video_chunks\\CSV\\\n",
      "Processed 100 / 520\n",
      "  - Sample shape & label:\n",
      "    - X_data: (90, 36)\n",
      "    - y_data: 0\n",
      "Processed 200 / 520\n",
      "  - Sample shape & label:\n",
      "    - X_data: (90, 36)\n",
      "    - y_data: 0\n",
      "Processed 300 / 520\n",
      "  - Sample shape & label:\n",
      "    - X_data: (90, 36)\n",
      "    - y_data: 1\n",
      "Processed 400 / 520\n",
      "  - Sample shape & label:\n",
      "    - X_data: (90, 36)\n",
      "    - y_data: 0\n",
      "Processed 500 / 520\n",
      "  - Sample shape & label:\n",
      "    - X_data: (90, 36)\n",
      "    - y_data: 1\n",
      "Processed 100 / 223\n",
      "  - Sample shape & label:\n",
      "    - X_data: (90, 36)\n",
      "    - y_data: 1\n",
      "Processed 200 / 223\n",
      "  - Sample shape & label:\n",
      "    - X_data: (90, 36)\n",
      "    - y_data: 1\n",
      "----------------------------\n",
      "Gathered data shapes:\n",
      "X_train.shape: (520, 90, 36)\n",
      "y_train.shape: (520,)\n",
      "X_test.shape: (223, 90, 36)\n",
      "y_test.shape: (223,)\n",
      "Accuracy: 0.9192825112107623\n",
      "Precision 0.9032258064516129\n",
      "Recall 0.9491525423728814\n"
     ]
    },
    {
     "data": {
      "image/png": "[encoded data removed]",
      "text/plain": [
       "<Figure size 432x288 with 2 Axes>"
      ]
     },
     "metadata": {
      "needs_background": "light"
     },
     "output_type": "display_data"
    },
    {
     "name": "stdout",
     "output_type": "stream",
     "text": [
      "---------------------------------------------------------------\n",
      "\n",
      "Metrics Rates:\n",
      "     - True Positive            : 112\n",
      "     - False Positive           : 12\n",
      "     - True Negative            : 93\n",
      "     - False Negative           : 6\n",
      "     - True Positive Rate       :  0.9491525423728814\n",
      "     - True Negative Rate       :  0.8857142857142857\n",
      "     - Positive Predictive Value:  0.9032258064516129\n",
      "     - Negative predictive value:  0.9393939393939394\n",
      "     - False Positive Rate      :  0.11428571428571428\n",
      "     - False Negative Rate      :  0.05084745762711865\n",
      "     - False Discovery Rate     :  0.0967741935483871\n"
     ]
    }
   ],
   "source": [
    "rfr = RFR_Model(data_mode=\"MediaPipe\",\n",
    "          csv_path=\"C:\\\\Work\\\\606Capstone\\\\Video_chunks\\\\CSV\\\\\",\n",
    "          data_dir=\"C:\\\\Work\\\\606Capstone\\\\Video_chunks\\\\MediaPipe\\\\\",\n",
    "          approach_type=None,\n",
    "          threshold=0.5,\n",
    "          train_verbose=False)\n",
    "RFR_export_model(rfr,\"C:\\\\Work\\\\606Capstone\\\\Video_chunks\\\\Models\\\\MediaPipeSequential_RFR.pickle\")"
   ]
  }
 ],
 "metadata": {
  "kernelspec": {
   "display_name": "Python 3 (ipykernel)",
   "language": "python",
   "name": "python3"
  },
  "language_info": {
   "codemirror_mode": {
    "name": "ipython",
    "version": 3
   },
   "file_extension": ".py",
   "mimetype": "text/x-python",
   "name": "python",
   "nbconvert_exporter": "python",
   "pygments_lexer": "ipython3",
   "version": "3.9.7"
  }
 },
 "nbformat": 4,
 "nbformat_minor": 5
}
