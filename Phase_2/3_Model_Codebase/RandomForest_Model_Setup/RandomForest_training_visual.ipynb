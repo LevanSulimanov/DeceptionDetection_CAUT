{
 "cells": [
  {
   "cell_type": "markdown",
   "id": "6dfc0833",
   "metadata": {},
   "source": [
    "# Declare Random Forest (add hyperparams, etc. as needed):"
   ]
  },
  {
   "cell_type": "code",
   "execution_count": 1,
   "id": "ac38240f",
   "metadata": {
    "scrolled": false
   },
   "outputs": [],
   "source": [
    "# Importing our Utilities functions:\n",
    "from utils import CautDataloaderRegular\n",
    "import os\n",
    "import pandas as pd\n",
    "import numpy as np\n",
    "import math\n",
    "import matplotlib.pyplot as plt\n",
    "import matplotlib.colors as mcolors\n",
    "\n",
    "\n",
    "# Modelling\n",
    "from sklearn.ensemble import RandomForestClassifier\n",
    "from sklearn.metrics import accuracy_score, confusion_matrix, precision_score, recall_score, ConfusionMatrixDisplay\n",
    "from sklearn.model_selection import RandomizedSearchCV, train_test_split\n",
    "from scipy.stats import randint\n",
    "    \n",
    "def RFR_Model(data_mode,\n",
    "              csv_path,\n",
    "              data_dir,\n",
    "              approach_type=None,\n",
    "              batch_size=32,\n",
    "              threshold=0.5,\n",
    "              train_verbose=True):\n",
    "\n",
    "    X_y_data = CautDataloaderRegular.get_X_y_TrainTest_Visual(csv_path=\"C:\\\\Work\\\\606Capstone\\\\Video_chunks\\\\CSV\\\\\",\n",
    "                                                       data_dir=\"C:\\\\Work\\\\606Capstone\\\\Video_chunks\\\\Excel\\\\\",\n",
    "                                                       data_mode=\"OpenFace\",\n",
    "                                                       approach_type=\"average\",  # sequential\",\n",
    "                                                       verbose=True)\n",
    "    \n",
    "    X_train, y_train = X_y_data[0], X_y_data[1]\n",
    "    X_test, y_test = X_y_data[2], X_y_data[3]\n",
    "    \n",
    "    # Setup model:\n",
    "    #fitting and evaluating\n",
    "    rf = RandomForestClassifier(n_estimators=120)\n",
    "    \n",
    "    # fit the model:\n",
    "    rf.fit(X_train, y_train)\n",
    "    \n",
    "    # predict on test data:\n",
    "    y_pred = rf.predict(X_test)\n",
    "    \n",
    "    # get metrics (accuracy, precision, recall)\n",
    "    accuracy = accuracy_score(y_test, y_pred)\n",
    "    precision = precision_score(y_test, y_pred)\n",
    "    recall = recall_score(y_test, y_pred)\n",
    "    print(\"Accuracy:\", accuracy)\n",
    "    print(\"Precision\", precision)\n",
    "    print(\"Recall\", recall)\n",
    "    \n",
    "    # show confusion matrix\n",
    "    CautDataloaderRegular.plot_confusion_matrix(y_test, y_pred)"
   ]
  },
  {
   "cell_type": "markdown",
   "id": "38426172",
   "metadata": {},
   "source": [
    "# OpenFace Average:"
   ]
  },
  {
   "cell_type": "code",
   "execution_count": 2,
   "id": "d3fb6b0b",
   "metadata": {},
   "outputs": [
    {
     "name": "stdout",
     "output_type": "stream",
     "text": [
      "\n",
      "Selected csv_path: C:\\Work\\606Capstone\\Video_chunks\\CSV\\\n",
      "Processed 100 / 520\n",
      "  - Sample shape & label:\n",
      "    - X_data: (27,)\n",
      "    - y_data: 0\n",
      "Processed 200 / 520\n",
      "  - Sample shape & label:\n",
      "    - X_data: (27,)\n",
      "    - y_data: 0\n",
      "Video failed to be processed by OpenFace. Videoname=trial_truth_025_007.\n",
      "Processed 300 / 520\n",
      "  - Sample shape & label:\n",
      "    - X_data: (27,)\n",
      "    - y_data: 0\n",
      "Video failed to be processed by OpenFace. Videoname=trial_lie_053_007.\n",
      "Processed 400 / 520\n",
      "  - Sample shape & label:\n",
      "    - X_data: (27,)\n",
      "    - y_data: 1\n",
      "Processed 500 / 520\n",
      "  - Sample shape & label:\n",
      "    - X_data: (27,)\n",
      "    - y_data: 0\n",
      "Casting collected data to .npy array type...\n",
      "Data is collected. Returning X and y data.\n",
      "@@@@@@@@@@@@@@@@@@@@@@@@@@@@@@@@@@@@@@@@@@@@@@@@@@@@@@@@@\n",
      "\n",
      "\n",
      "Processed 100 / 223\n",
      "  - Sample shape & label:\n",
      "    - X_data: (27,)\n",
      "    - y_data: 1\n",
      "Video failed to be processed by OpenFace. Videoname=trial_lie_053_002.\n",
      "Video failed to be processed by OpenFace. Videoname=trial_truth_025_008.\n",
      "Video failed to be processed by OpenFace. Videoname=trial_lie_053_006.\n",
      "Video failed to be processed by OpenFace. Videoname=trial_lie_015_008.\n",
      "Processed 200 / 223\n",
      "  - Sample shape & label:\n",
      "    - X_data: (27,)\n",
      "    - y_data: 1\n",
      "Casting collected data to .npy array type...\n",
      "Data is collected. Returning X and y data.\n",
      "@@@@@@@@@@@@@@@@@@@@@@@@@@@@@@@@@@@@@@@@@@@@@@@@@@@@@@@@@\n",
      "\n",
      "\n",
      "Accuracy: 0.8447488584474886\n",
      "Precision 0.8461538461538461\n",
      "Recall 0.8608695652173913\n",
      "False Positive:  0.17307692307692307\n"
     ]
    },
    {
     "data": {
      "image/png": "[encoded data removed]",
      "text/plain": [
       "<Figure size 432x288 with 2 Axes>"
      ]
     },
     "metadata": {
      "needs_background": "light"
     },
     "output_type": "display_data"
    },
    {
     "name": "stdout",
     "output_type": "stream",
     "text": [
      "---------------------------------------------------------------\n",
      "\n",
      "Metrics Rates:\n",
      "     - True Positive            : 99\n",
      "     - False Positive           : 18\n",
      "     - True Negative            : 86\n",
      "     - False Negative           : 16\n",
      "     - True Positive Rate       :  0.8608695652173913\n",
      "     - True Negative Rate       :  0.8269230769230769\n",
      "     - Positive Predictive Value:  0.8461538461538461\n",
      "     - Negative predictive value:  0.8431372549019608\n",
      "     - False Positive Rate      :  0.17307692307692307\n",
      "     - False Negative Rate      :  0.1391304347826087\n",
      "     - False Discovery Rate     :  0.15384615384615385\n"
     ]
    }
   ],
   "source": [
    "RFR_Model(data_mode=\"OpenFace\",\n",
    "          csv_path=\"C:\\\\Work\\\\606Capstone\\\\Video_chunks\\\\CSV\\\\\",\n",
    "          data_dir=\"C:\\\\Work\\\\606Capstone\\\\Video_chunks\\\\Excel\\\\\",\n",
    "          approach_type=\"average\",\n",
    "          threshold=0.5,\n",
    "          train_verbose=False)"
   ]
  },
  {
   "cell_type": "markdown",
   "id": "408d780d",
   "metadata": {},
   "source": [
    "# OpenFace Sequential:"
   ]
  },
  {
   "cell_type": "code",
   "execution_count": 3,
   "id": "f2d896ba",
   "metadata": {},
   "outputs": [
    {
     "name": "stdout",
     "output_type": "stream",
     "text": [
      "\n",
      "Selected csv_path: C:\\Work\\606Capstone\\Video_chunks\\CSV\\\n",
      "Processed 100 / 520\n",
      "  - Sample shape & label:\n",
      "    - X_data: (27,)\n",
      "    - y_data: 0\n",
      "Processed 200 / 520\n",
      "  - Sample shape & label:\n",
      "    - X_data: (27,)\n",
      "    - y_data: 0\n",
      "Video failed to be processed by OpenFace. Videoname=trial_truth_025_007.\n",
      "Processed 300 / 520\n",
      "  - Sample shape & label:\n",
      "    - X_data: (27,)\n",
      "    - y_data: 0\n",
      "Video failed to be processed by OpenFace. Videoname=trial_lie_053_007.\n",
      "Processed 400 / 520\n",
      "  - Sample shape & label:\n",
      "    - X_data: (27,)\n",
      "    - y_data: 1\n",
      "Processed 500 / 520\n",
      "  - Sample shape & label:\n",
      "    - X_data: (27,)\n",
      "    - y_data: 0\n",
      "Casting collected data to .npy array type...\n",
      "Data is collected. Returning X and y data.\n",
      "@@@@@@@@@@@@@@@@@@@@@@@@@@@@@@@@@@@@@@@@@@@@@@@@@@@@@@@@@\n",
      "\n",
      "\n",
      "Processed 100 / 223\n",
      "  - Sample shape & label:\n",
      "    - X_data: (27,)\n",
      "    - y_data: 1\n",
      "Video failed to be processed by OpenFace. Videoname=trial_lie_053_002.\n",
      "Video failed to be processed by OpenFace. Videoname=trial_truth_025_008.\n",
      "Video failed to be processed by OpenFace. Videoname=trial_lie_053_006.\n",
      "Video failed to be processed by OpenFace. Videoname=trial_lie_015_008.\n",
      "Processed 200 / 223\n",
      "  - Sample shape & label:\n",
      "    - X_data: (27,)\n",
      "    - y_data: 1\n",
      "Casting collected data to .npy array type...\n",
      "Data is collected. Returning X and y data.\n",
      "@@@@@@@@@@@@@@@@@@@@@@@@@@@@@@@@@@@@@@@@@@@@@@@@@@@@@@@@@\n",
      "\n",
      "\n",
      "Accuracy: 0.8538812785388128\n",
      "Precision 0.8807339449541285\n",
      "Recall 0.8347826086956521\n",
      "False Positive:  0.125\n"
     ]
    },
    {
     "data": {
      "image/png": "[encoded data removed]",
      "text/plain": [
       "<Figure size 432x288 with 2 Axes>"
      ]
     },
     "metadata": {
      "needs_background": "light"
     },
     "output_type": "display_data"
    },
    {
     "name": "stdout",
     "output_type": "stream",
     "text": [
      "---------------------------------------------------------------\n",
      "\n",
      "Metrics Rates:\n",
      "     - True Positive            : 96\n",
      "     - False Positive           : 13\n",
      "     - True Negative            : 91\n",
      "     - False Negative           : 19\n",
      "     - True Positive Rate       :  0.8347826086956521\n",
      "     - True Negative Rate       :  0.875\n",
      "     - Positive Predictive Value:  0.8807339449541285\n",
      "     - Negative predictive value:  0.8272727272727273\n",
      "     - False Positive Rate      :  0.125\n",
      "     - False Negative Rate      :  0.16521739130434782\n",
      "     - False Discovery Rate     :  0.11926605504587157\n"
     ]
    }
   ],
   "source": [
    "RFR_Model(data_mode=\"OpenFace\",\n",
    "          csv_path=\"C:\\\\Work\\\\606Capstone\\\\Video_chunks\\\\CSV\\\\\",\n",
    "          data_dir=\"C:\\\\Work\\\\606Capstone\\\\Video_chunks\\\\Excel\\\\\",\n",
    "          approach_type=\"sequential\",\n",
    "          threshold=0.5,\n",
    "          train_verbose=False)"
   ]
  },
  {
   "cell_type": "markdown",
   "id": "fd7e1b30",
   "metadata": {},
   "source": [
    "# MediaPipe Sequential:"
   ]
  },
  {
   "cell_type": "code",
   "execution_count": 4,
   "id": "a0a2789d",
   "metadata": {},
   "outputs": [
    {
     "name": "stdout",
     "output_type": "stream",
     "text": [
      "\n",
      "Selected csv_path: C:\\Work\\606Capstone\\Video_chunks\\CSV\\\n",
      "Processed 100 / 520\n",
      "  - Sample shape & label:\n",
      "    - X_data: (27,)\n",
      "    - y_data: 0\n",
      "Processed 200 / 520\n",
      "  - Sample shape & label:\n",
      "    - X_data: (27,)\n",
      "    - y_data: 0\n",
      "Video failed to be processed by OpenFace. Videoname=trial_truth_025_007.\n",
      "Processed 300 / 520\n",
      "  - Sample shape & label:\n",
      "    - X_data: (27,)\n",
      "    - y_data: 0\n",
      "Video failed to be processed by OpenFace. Videoname=trial_lie_053_007.\n",
      "Processed 400 / 520\n",
      "  - Sample shape & label:\n",
      "    - X_data: (27,)\n",
      "    - y_data: 1\n",
      "Processed 500 / 520\n",
      "  - Sample shape & label:\n",
      "    - X_data: (27,)\n",
      "    - y_data: 0\n",
      "Casting collected data to .npy array type...\n",
      "Data is collected. Returning X and y data.\n",
      "@@@@@@@@@@@@@@@@@@@@@@@@@@@@@@@@@@@@@@@@@@@@@@@@@@@@@@@@@\n",
      "\n",
      "\n",
      "Processed 100 / 223\n",
      "  - Sample shape & label:\n",
      "    - X_data: (27,)\n",
      "    - y_data: 1\n",
      "Video failed to be processed by OpenFace. Videoname=trial_lie_053_002.\n",
      "Video failed to be processed by OpenFace. Videoname=trial_truth_025_008.\n",
      "Video failed to be processed by OpenFace. Videoname=trial_lie_053_006.\n",
      "Video failed to be processed by OpenFace. Videoname=trial_lie_015_008.\n",
      "Processed 200 / 223\n",
      "  - Sample shape & label:\n",
      "    - X_data: (27,)\n",
      "    - y_data: 1\n",
      "Casting collected data to .npy array type...\n",
      "Data is collected. Returning X and y data.\n",
      "@@@@@@@@@@@@@@@@@@@@@@@@@@@@@@@@@@@@@@@@@@@@@@@@@@@@@@@@@\n",
      "\n",
      "\n",
      "Accuracy: 0.8812785388127854\n",
      "Precision 0.9320388349514563\n",
      "Recall 0.8347826086956521\n",
      "False Positive:  0.0673076923076923\n"
     ]
    },
    {
     "data": {
      "image/png": "[encoded data removed]",
      "text/plain": [
       "<Figure size 432x288 with 2 Axes>"
      ]
     },
     "metadata": {
      "needs_background": "light"
     },
     "output_type": "display_data"
    },
    {
     "name": "stdout",
     "output_type": "stream",
     "text": [
      "---------------------------------------------------------------\n",
      "\n",
      "Metrics Rates:\n",
      "     - True Positive            : 96\n",
      "     - False Positive           : 7\n",
      "     - True Negative            : 97\n",
      "     - False Negative           : 19\n",
      "     - True Positive Rate       :  0.8347826086956521\n",
      "     - True Negative Rate       :  0.9326923076923077\n",
      "     - Positive Predictive Value:  0.9320388349514563\n",
      "     - Negative predictive value:  0.8362068965517241\n",
      "     - False Positive Rate      :  0.0673076923076923\n",
      "     - False Negative Rate      :  0.16521739130434782\n",
      "     - False Discovery Rate     :  0.06796116504854369\n"
     ]
    }
   ],
   "source": [
    "RFR_Model(data_mode=\"MediaPipe\",\n",
    "          csv_path=\"C:\\\\Work\\\\606Capstone\\\\Video_chunks\\\\CSV\\\\\",\n",
    "          data_dir=\"C:\\\\Work\\\\606Capstone\\\\Video_chunks\\\\MediaPipe\\\\\",\n",
    "          threshold=0.5,\n",
    "          train_verbose=False)"
   ]
  }
 ],
 "metadata": {
  "kernelspec": {
   "display_name": "Python 3 (ipykernel)",
   "language": "python",
   "name": "python3"
  },
  "language_info": {
   "codemirror_mode": {
    "name": "ipython",
    "version": 3
   },
   "file_extension": ".py",
   "mimetype": "text/x-python",
   "name": "python",
   "nbconvert_exporter": "python",
   "pygments_lexer": "ipython3",
   "version": "3.9.7"
  }
 },
 "nbformat": 4,
 "nbformat_minor": 5
}
