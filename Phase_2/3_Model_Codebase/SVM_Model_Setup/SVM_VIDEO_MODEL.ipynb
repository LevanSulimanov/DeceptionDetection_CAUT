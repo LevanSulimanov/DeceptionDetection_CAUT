{
  "nbformat": 4,
  "nbformat_minor": 0,
  "metadata": {
    "colab": {
      "provenance": []
    },
    "kernelspec": {
      "name": "python3",
      "display_name": "Python 3"
    },
    "language_info": {
      "name": "python"
    }
  },
  "cells": [
    {
      "cell_type": "code",
      "execution_count": 2,
      "metadata": {
        "colab": {
          "base_uri": "https://localhost:8080/"
        },
        "id": "XRAnmMu2reNa",
        "outputId": "a69f9da1-df8b-433e-ea9d-d51196982e31"
      },
      "outputs": [
        {
          "output_type": "stream",
          "name": "stdout",
          "text": [
            "Mounted at /content/drive\n"
          ]
        }
      ],
      "source": [
        "# Mount the Google Drive folder\n",
        "from google.colab import drive\n",
        "drive.mount('/content/drive')\n"
      ]
    },
    {
      "cell_type": "markdown",
      "source": [
        "## OPENFACE AVERAGE"
      ],
      "metadata": {
        "id": "vJWFSfx-en7V"
      }
    },
    {
      "cell_type": "code",
      "source": [
        "# Importing our Utilities functions:\n",
        "from utils import CautDataloaderRegular\n",
        "import os\n",
        "import pandas as pd\n",
        "import numpy as np\n",
        "import math\n",
        "import matplotlib.pyplot as plt\n",
        "import matplotlib.colors as mcolors\n",
        "\n",
        "\n",
        "# Modelling\n",
        "from sklearn.ensemble import RandomForestClassifier\n",
        "from sklearn.metrics import accuracy_score, confusion_matrix, precision_score, recall_score, ConfusionMatrixDisplay\n",
        "from sklearn.model_selection import RandomizedSearchCV, train_test_split\n",
        "from scipy.stats import randint\n",
        "    \n",
        "from sklearn import svm\n",
        "from sklearn.model_selection import train_test_split\n",
        "from sklearn.metrics import accuracy_score\n",
        "\n",
        "def SVM_Model(data_mode,\n",
        "              csv_path,\n",
        "              data_dir,\n",
        "              approach_type=None,\n",
        "              batch_size=32,\n",
        "              threshold=0.5,\n",
        "              train_verbose=True):\n",
        "\n",
        "     X_y_data= CautDataloaderRegular.get_X_y_TrainTest_Visual(csv_path=csv_path,\n",
        "                                                           data_dir=data_dir,\n",
        "                                                           data_mode=data_mode,\n",
        "                                                           approach_type=\"average\",\n",
        "                                                           verbose= train_verbose)\n",
        "\n",
        "     X_train, y_train =   X_y_data[0],   X_y_data[1]\n",
        "     X_test, y_test =   X_y_data[2],   X_y_data[3]\n",
        "\n",
        "     clf = svm.SVC(kernel='linear')\n",
        "    \n",
        "     clf.fit(X_train, y_train)\n",
        "\n",
        "     y_pred = clf.predict(X_test)\n",
        "\n",
        "    #get metrics (accuracy, precision, recall)\n",
        "     accuracy = accuracy_score(y_test, y_pred)\n",
        "     precision = precision_score(y_test, y_pred)\n",
        "     recall = recall_score(y_test, y_pred)\n",
        "     print(\"Accuracy:\", accuracy)\n",
        "     print(\"Precision\", precision)\n",
        "     print(\"Recall\", recall)\n",
        "    \n",
        "    # show confusion matrix\n",
        "     CautDataloaderRegular.plot_confusion_matrix(y_test, y_pred)"
      ],
      "metadata": {
        "id": "mCsPZXJSr4ih"
      },
      "execution_count": 28,
      "outputs": []
    },
    {
      "cell_type": "markdown",
      "source": [],
      "metadata": {
        "id": "1MgZnVx8ey1Q"
      }
    },
    {
      "cell_type": "code",
      "source": [
        "SVM_Model(data_mode=\"OpenFace\",\n",
        "          csv_path=\"/content/drive/MyDrive/606 Capstone/\",\n",
        "          data_dir=\"/content/drive/MyDrive/606 Capstone/OpenFace_Final\",\n",
        "          approach_type=\"average\",\n",
        "          threshold=0.5,\n",
        "          train_verbose=False)"
      ],
      "metadata": {
        "colab": {
          "base_uri": "https://localhost:8080/",
          "height": 1000
        },
        "id": "Ki15QBfhubrN",
        "outputId": "21c2ea4c-acae-4866-8ea9-47a594cafc8f"
      },
      "execution_count": 20,
      "outputs": [
        {
          "output_type": "stream",
          "name": "stdout",
          "text": [
            "\n",
            "Selected csv_path: /content/drive/MyDrive/606 Capstone/\n",
            "Video failed to be processed by OpenFace. Videoname=trial_lie_015_008.\n",
            "Processed 100 / 520\n",
            "  - Sample shape & label:\n",
            "    - X_data: (27,)\n",
            "    - y_data: 1\n",
            "Video failed to be processed by OpenFace. Videoname=trial_lie_053_007.\n",
            "Processed 200 / 520\n",
            "  - Sample shape & label:\n",
            "    - X_data: (27,)\n",
            "    - y_data: 1\n",
            "Processed 300 / 520\n",
            "  - Sample shape & label:\n",
            "    - X_data: (27,)\n",
            "    - y_data: 1\n",
            "Processed 400 / 520\n",
            "  - Sample shape & label:\n",
            "    - X_data: (27,)\n",
            "    - y_data: 1\n",
            "Video failed to be processed by OpenFace. Videoname=trial_lie_053_006.\n",
            "Processed 500 / 520\n",
            "  - Sample shape & label:\n",
            "    - X_data: (27,)\n",
            "    - y_data: 1\n",
            "Video failed to be processed by OpenFace. Videoname=trial_truth_025_008.\n",
            "Casting collected data to .npy array type...\n",
            "Data is collected. Returning X and y data.\n",
            "@@@@@@@@@@@@@@@@@@@@@@@@@@@@@@@@@@@@@@@@@@@@@@@@@@@@@@@@@\n",
            "\n",
            "\n",
            "Video failed to be processed by OpenFace. Videoname=trial_lie_053_002.\n",
            "Processed 100 / 223\n",
            "  - Sample shape & label:\n",
            "    - X_data: (27,)\n",
            "    - y_data: 0\n",
            "Video failed to be processed by OpenFace. Videoname=trial_truth_025_007.\n",
            "Processed 200 / 223\n",
            "  - Sample shape & label:\n",
            "    - X_data: (27,)\n",
            "    - y_data: 0\n",
            "Casting collected data to .npy array type...\n",
            "Data is collected. Returning X and y data.\n",
            "@@@@@@@@@@@@@@@@@@@@@@@@@@@@@@@@@@@@@@@@@@@@@@@@@@@@@@@@@\n",
            "\n",
            "\n",
            "Accuracy: 0.7375565610859729\n",
            "Precision 0.736\n",
            "Recall 0.7863247863247863\n"
          ]
        },
        {
          "output_type": "display_data",
          "data": {
            "text/plain": [
              "<Figure size 640x480 with 2 Axes>"
            ],
            "image/png": "[encoded data removed]"
          },
          "metadata": {}
        },
        {
          "output_type": "stream",
          "name": "stdout",
          "text": [
            "---------------------------------------------------------------\n",
            "\n",
            "Metrics Rates:\n",
            "     - True Positive            : 92\n",
            "     - False Positive           : 33\n",
            "     - True Negative            : 71\n",
            "     - False Negative           : 25\n",
            "     - True Positive Rate       :  0.7863247863247863\n",
            "     - True Negative Rate       :  0.6826923076923077\n",
            "     - Positive Predictive Value:  0.736\n",
            "     - Negative predictive value:  0.7395833333333334\n",
            "     - False Positive Rate      :  0.3173076923076923\n",
            "     - False Negative Rate      :  0.21367521367521367\n",
            "     - False Discovery Rate     :  0.264\n"
          ]
        }
      ]
    },
    {
      "cell_type": "markdown",
      "source": [
        "### OPENFACE SEQUENTIAL"
      ],
      "metadata": {
        "id": "XBR_wIpGefXc"
      }
    },
    {
      "cell_type": "code",
      "source": [
        "# # Modelling\n",
        "# from sklearn.ensemble import RandomForestClassifier\n",
        "# from sklearn.metrics import accuracy_score, confusion_matrix, precision_score, recall_score, ConfusionMatrixDisplay\n",
        "# from sklearn.model_selection import RandomizedSearchCV, train_test_split\n",
        "# from scipy.stats import randint\n",
        "    \n",
        "# from sklearn import svm\n",
        "# from sklearn.model_selection import train_test_split\n",
        "# from sklearn.metrics import accuracy_score\n",
        "\n",
        "# def SVM_Model_Seq(data_mode,\n",
        "#               csv_path,\n",
        "#               data_dir,\n",
        "#               approach_type=None,\n",
        "#               batch_size=32,\n",
        "#               threshold=0.5,\n",
        "#               train_verbose=True):\n",
        "\n",
        "#      X_y_data= CautDataloaderRegular.get_X_y_TrainTest_Visual(csv_path=csv_path,\n",
        "#                                                            data_dir=data_dir,\n",
        "#                                                            data_mode=data_mode,\n",
        "#                                                            approach_type=approach_type,\n",
        "#                                                            verbose= train_verbose)\n",
        "\n",
        "#      X_train, y_train = X_y_data[0].reshape(X_y_data[0].shape[0], -1), X_y_data[1]\n",
        "#      X_test, y_test = X_y_data[2].reshape(X_y_data[2].shape[0], -1), X_y_data[3]\n",
        "\n",
        "#      # precomputed kernel\n",
        "#      gram_train = np.dot(X_train, X_train.T)\n",
        "#      clf = svm.SVC(kernel='precomputed')\n",
        "#      clf.fit(gram_train, y_train)\n",
        "\n",
        "#      # predict on test set\n",
        "#      gram_test = np.dot(X_test, X_train.T)\n",
        "#      y_pred = clf.predict(gram_test)\n",
        "\n",
        "#      # get metrics (accuracy, precision, recall)\n",
        "#      accuracy = accuracy_score(y_test, y_pred)\n",
        "#      precision = precision_score(y_test, y_pred)\n",
        "#      recall = recall_score(y_test, y_pred)\n",
        "#      print(\"Accuracy:\", accuracy)\n",
        "#      print(\"Precision\", precision)\n",
        "#      print(\"Recall\", recall)\n",
        "    \n",
        "#      # show confusion matrix\n",
        "#      CautDataloaderRegular.plot_confusion_matrix(y_test, y_pred)\n"
      ],
      "metadata": {
        "id": "v2EgODBz2dgI"
      },
      "execution_count": 44,
      "outputs": []
    },
    {
      "cell_type": "markdown",
      "source": [
        "Adding HistGradientBoostingClassifier so that the model is competant to handle any Nan values .\n",
        "The reshape method is used to flatten the input data in the line X_train, y_train = X_y_data[0].reshape(len(X_y_data[0]), -1), X_y_data[1] and X_test, y_test = X_y_data[2].reshape(len(X_y_data[2]), -1), X_y_data[3]. Also, HistGradientBoostingClassifier is used instead of SVC to handle missing values."
      ],
      "metadata": {
        "id": "XTaniINwh8nF"
      }
    },
    {
      "cell_type": "code",
      "source": [
        "from sklearn.ensemble import HistGradientBoostingClassifier\n",
        "from sklearn.metrics import accuracy_score, confusion_matrix, precision_score, recall_score, ConfusionMatrixDisplay\n",
        "from sklearn.model_selection import RandomizedSearchCV, train_test_split\n",
        "from scipy.stats import randint\n",
        "    \n",
        "from sklearn.model_selection import train_test_split\n",
        "from sklearn.metrics import accuracy_score\n",
        "\n",
        "def HistGradientBoostingClassifier_Model_Seq(data_mode,\n",
        "                                             csv_path,\n",
        "                                             data_dir,\n",
        "                                             approach_type=None,\n",
        "                                             batch_size=32,\n",
        "                                             threshold=0.5,\n",
        "                                             train_verbose=True):\n",
        "\n",
        "    X_y_data = CautDataloaderRegular.get_X_y_TrainTest_Visual(csv_path=csv_path,\n",
        "                                                              data_dir=data_dir,\n",
        "                                                              data_mode=data_mode,\n",
        "                                                              approach_type=approach_type,\n",
        "                                                              verbose=train_verbose)\n",
        "\n",
        "    X_train, y_train = X_y_data[0].reshape(len(X_y_data[0]), -1), X_y_data[1]\n",
        "    X_test, y_test = X_y_data[2].reshape(len(X_y_data[2]), -1), X_y_data[3]\n",
        "\n",
        "    clf = HistGradientBoostingClassifier()\n",
        "\n",
        "    clf.fit(X_train, y_train)\n",
        "\n",
        "    y_pred = clf.predict(X_test)\n",
        "\n",
        "    # get metrics (accuracy, precision, recall)\n",
        "    accuracy = accuracy_score(y_test, y_pred)\n",
        "    precision = precision_score(y_test, y_pred)\n",
        "    recall = recall_score(y_test, y_pred)\n",
        "    print(\"Accuracy:\", accuracy)\n",
        "    print(\"Precision\", precision)\n",
        "    print(\"Recall\", recall)\n",
        "\n",
        "    # show confusion matrix\n",
        "    CautDataloaderRegular.plot_confusion_matrix(y_test, y_pred)\n"
      ],
      "metadata": {
        "id": "qyN85aaCcOFj"
      },
      "execution_count": 46,
      "outputs": []
    },
    {
      "cell_type": "code",
      "source": [
        "HistGradientBoostingClassifier_Model_Seq(data_mode=\"OpenFace\",\n",
        "          csv_path=\"/content/drive/MyDrive/606 Capstone/\",\n",
        "          data_dir=\"/content/drive/MyDrive/606 Capstone/OpenFace 2\",\n",
        "          approach_type=\"sequential\",\n",
        "          threshold=0.5,\n",
        "          train_verbose=False)"
      ],
      "metadata": {
        "colab": {
          "base_uri": "https://localhost:8080/",
          "height": 1000
        },
        "id": "7cljhbDJy24w",
        "outputId": "f0e44646-9eb5-4047-874d-31dd64edce31"
      },
      "execution_count": 47,
      "outputs": [
        {
          "output_type": "stream",
          "name": "stdout",
          "text": [
            "\n",
            "Selected csv_path: /content/drive/MyDrive/606 Capstone/\n",
            "Casting collected data to .npy array type...\n",
            "Data is collected. Returning X and y data.\n",
            "@@@@@@@@@@@@@@@@@@@@@@@@@@@@@@@@@@@@@@@@@@@@@@@@@@@@@@@@@\n",
            "\n",
            "\n",
            "Casting collected data to .npy array type...\n",
            "Data is collected. Returning X and y data.\n",
            "@@@@@@@@@@@@@@@@@@@@@@@@@@@@@@@@@@@@@@@@@@@@@@@@@@@@@@@@@\n",
            "\n",
            "\n",
            "Accuracy: 0.7568807339449541\n",
            "Precision 0.7719298245614035\n",
            "Recall 0.7652173913043478\n"
          ]
        },
        {
          "output_type": "display_data",
          "data": {
            "text/plain": [
              "<Figure size 640x480 with 2 Axes>"
            ],
            "image/png": "[encoded data removed]"
          },
          "metadata": {}
        },
        {
          "output_type": "stream",
          "name": "stdout",
          "text": [
            "---------------------------------------------------------------\n",
            "\n",
            "Metrics Rates:\n",
            "     - True Positive            : 88\n",
            "     - False Positive           : 26\n",
            "     - True Negative            : 77\n",
            "     - False Negative           : 27\n",
            "     - True Positive Rate       :  0.7652173913043478\n",
            "     - True Negative Rate       :  0.7475728155339806\n",
            "     - Positive Predictive Value:  0.7719298245614035\n",
            "     - Negative predictive value:  0.7403846153846154\n",
            "     - False Positive Rate      :  0.2524271844660194\n",
            "     - False Negative Rate      :  0.23478260869565218\n",
            "     - False Discovery Rate     :  0.22807017543859648\n"
          ]
        }
      ]
    },
    {
      "cell_type": "code",
      "source": [],
      "metadata": {
        "id": "DOV_7ouMSmW6"
      },
      "execution_count": null,
      "outputs": []
    },
    {
      "cell_type": "markdown",
      "source": [
        "## MEDIAPIPE VIDEO"
      ],
      "metadata": {
        "id": "MHENpBRSe0FG"
      }
    },
    {
      "cell_type": "code",
      "source": [
        "# Modelling\n",
        "from sklearn.ensemble import RandomForestClassifier\n",
        "from sklearn.metrics import accuracy_score, confusion_matrix, precision_score, recall_score, ConfusionMatrixDisplay\n",
        "from sklearn.model_selection import RandomizedSearchCV, train_test_split\n",
        "from scipy.stats import randint\n",
        "    \n",
        "from sklearn import svm\n",
        "from sklearn.model_selection import train_test_split\n",
        "from sklearn.metrics import accuracy_score\n",
        "\n",
        "def SVM_Model_MediaPipe(data_mode,\n",
        "                        csv_path,\n",
        "                        data_dir,\n",
        "                        approach_type=None,\n",
        "                        batch_size=32,\n",
        "                        threshold=0.5,\n",
        "                        train_verbose=True):\n",
        "\n",
        "    X_y_data = CautDataloaderRegular.get_X_y_TrainTest_Visual(csv_path=csv_path,\n",
        "                                                               data_dir=data_dir,\n",
        "                                                               data_mode=data_mode,\n",
        "                                                               input_length_in_seconds=3,\n",
        "                                                               approach_type=approach_type,\n",
        "                                                               verbose=train_verbose)\n",
        "\n",
        "    X_train, y_train = X_y_data[0].reshape(len(X_y_data[0]), -1), X_y_data[1]\n",
        "    X_test, y_test = X_y_data[2].reshape(len(X_y_data[2]), -1), X_y_data[3]\n",
        "\n",
        "    # precomputed kernel\n",
        "    gram_train = np.dot(X_train, X_train.T)\n",
        "    clf = svm.SVC(kernel='precomputed')\n",
        "    clf.fit(gram_train, y_train)\n",
        "\n",
        "    # predict on test set\n",
        "    gram_test = np.dot(X_test, X_train.T)\n",
        "    y_pred = clf.predict(gram_test)\n",
        "\n",
        "    # get metrics (accuracy, precision, recall)\n",
        "    accuracy = accuracy_score(y_test, y_pred)\n",
        "    precision = precision_score(y_test, y_pred)\n",
        "    recall = recall_score(y_test, y_pred)\n",
        "    print(\"Accuracy:\", accuracy)\n",
        "    print(\"Precision\", precision)\n",
        "    print(\"Recall\", recall)\n",
        "\n",
        "    # show confusion matrix\n",
        "    CautDataloaderRegular.plot_confusion_matrix(y_test, y_pred)\n"
      ],
      "metadata": {
        "id": "Gj4yVo2qe5yk"
      },
      "execution_count": 52,
      "outputs": []
    },
    {
      "cell_type": "code",
      "source": [
        "SVM_Model_MediaPipe(data_mode=\"MediaPipe\",\n",
        "          csv_path=\"/content/drive/MyDrive/606 Capstone/\",\n",
        "          data_dir=\"/content/drive/MyDrive/606 Capstone/mediaPipe_keypoints_data_UPD 2\",\n",
        "          threshold=0.5,\n",
        "          train_verbose=False)"
      ],
      "metadata": {
        "colab": {
          "base_uri": "https://localhost:8080/",
          "height": 826
        },
        "id": "ZPsciG3XfffX",
        "outputId": "42acc0c3-2bd1-498b-d259-ecac79f2ff05"
      },
      "execution_count": 53,
      "outputs": [
        {
          "output_type": "stream",
          "name": "stdout",
          "text": [
            "\n",
            "Selected csv_path: /content/drive/MyDrive/606 Capstone/\n",
            "Accuracy: 0.7174887892376681\n",
            "Precision 0.7522935779816514\n",
            "Recall 0.6949152542372882\n"
          ]
        },
        {
          "output_type": "display_data",
          "data": {
            "text/plain": [
              "<Figure size 640x480 with 2 Axes>"
            ],
            "image/png": "[encoded data removed]"
          },
          "metadata": {}
        },
        {
          "output_type": "stream",
          "name": "stdout",
          "text": [
            "---------------------------------------------------------------\n",
            "\n",
            "Metrics Rates:\n",
            "     - True Positive            : 82\n",
            "     - False Positive           : 27\n",
            "     - True Negative            : 78\n",
            "     - False Negative           : 36\n",
            "     - True Positive Rate       :  0.6949152542372882\n",
            "     - True Negative Rate       :  0.7428571428571429\n",
            "     - Positive Predictive Value:  0.7522935779816514\n",
            "     - Negative predictive value:  0.6842105263157895\n",
            "     - False Positive Rate      :  0.2571428571428571\n",
            "     - False Negative Rate      :  0.3050847457627119\n",
            "     - False Discovery Rate     :  0.24770642201834864\n"
          ]
        }
      ]
    }
  ]
}