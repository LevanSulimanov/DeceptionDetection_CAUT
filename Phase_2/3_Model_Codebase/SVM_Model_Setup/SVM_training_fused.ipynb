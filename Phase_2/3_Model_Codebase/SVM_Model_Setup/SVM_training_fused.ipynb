{
  "cells": [
    {
      "cell_type": "code",
      "execution_count": null,
      "metadata": {
        "colab": {
          "base_uri": "https://localhost:8080/"
        },
        "id": "iqVVTDqXzz5B",
        "outputId": "2c84ef1b-2213-4884-a6fb-77851f042cca"
      },
      "outputs": [
        {
          "name": "stdout",
          "output_type": "stream",
          "text": [
            "Looking in indexes: https://pypi.org/simple, https://us-python.pkg.dev/colab-wheels/public/simple/\n",
            "Collecting umap-learn\n",
            "  Downloading umap-learn-0.5.3.tar.gz (88 kB)\n",
            "\u001b[2K     \u001b[90m━━━━━━━━━━━━━━━━━━━━━━━━━━━━━━━━━━━━━━━━\u001b[0m \u001b[32m88.2/88.2 kB\u001b[0m \u001b[31m1.9 MB/s\u001b[0m eta \u001b[36m0:00:00\u001b[0m\n",
            "\u001b[?25h  Preparing metadata (setup.py) ... \u001b[?25l\u001b[?25hdone\n",
            "Requirement already satisfied: numpy>=1.17 in /usr/local/lib/python3.10/dist-packages (from umap-learn) (1.22.4)\n",
            "Requirement already satisfied: scikit-learn>=0.22 in /usr/local/lib/python3.10/dist-packages (from umap-learn) (1.2.2)\n",
            "Requirement already satisfied: scipy>=1.0 in /usr/local/lib/python3.10/dist-packages (from umap-learn) (1.10.1)\n",
            "Requirement already satisfied: numba>=0.49 in /usr/local/lib/python3.10/dist-packages (from umap-learn) (0.56.4)\n",
            "Collecting pynndescent>=0.5\n",
            "  Downloading pynndescent-0.5.10.tar.gz (1.1 MB)\n",
            "\u001b[2K     \u001b[90m━━━━━━━━━━━━━━━━━━━━━━━━━━━━━━━━━━━━━━━━\u001b[0m \u001b[32m1.1/1.1 MB\u001b[0m \u001b[31m18.7 MB/s\u001b[0m eta \u001b[36m0:00:00\u001b[0m\n",
            "\u001b[?25h  Preparing metadata (setup.py) ... \u001b[?25l\u001b[?25hdone\n",
            "Requirement already satisfied: tqdm in /usr/local/lib/python3.10/dist-packages (from umap-learn) (4.65.0)\n",
            "Requirement already satisfied: llvmlite<0.40,>=0.39.0dev0 in /usr/local/lib/python3.10/dist-packages (from numba>=0.49->umap-learn) (0.39.1)\n",
            "Requirement already satisfied: setuptools in /usr/local/lib/python3.10/dist-packages (from numba>=0.49->umap-learn) (67.7.2)\n",
            "Requirement already satisfied: joblib>=0.11 in /usr/local/lib/python3.10/dist-packages (from pynndescent>=0.5->umap-learn) (1.2.0)\n",
            "Requirement already satisfied: threadpoolctl>=2.0.0 in /usr/local/lib/python3.10/dist-packages (from scikit-learn>=0.22->umap-learn) (3.1.0)\n",
            "Building wheels for collected packages: umap-learn, pynndescent\n",
            "  Building wheel for umap-learn (setup.py) ... \u001b[?25l\u001b[?25hdone\n",
            "  Created wheel for umap-learn: filename=umap_learn-0.5.3-py3-none-any.whl size=82830 sha256=cc4e5a1c2563b4054f8ad9c40251d071b46e4406cb4279409fa2620be61ddb72\n",
            "  Stored in directory: /root/.cache/pip/wheels/a0/e8/c6/a37ea663620bd5200ea1ba0907ab3c217042c1d035ef606acc\n",
            "  Building wheel for pynndescent (setup.py) ... \u001b[?25l\u001b[?25hdone\n",
            "  Created wheel for pynndescent: filename=pynndescent-0.5.10-py3-none-any.whl size=55640 sha256=ac1ec1cdbbd4790aff400a786f001d016d9469be1d90fe7932755f69a63912d7\n",
            "  Stored in directory: /root/.cache/pip/wheels/4a/38/5d/f60a40a66a9512b7e5e83517ebc2d1b42d857be97d135f1096\n",
            "Successfully built umap-learn pynndescent\n",
            "Installing collected packages: pynndescent, umap-learn\n",
            "Successfully installed pynndescent-0.5.10 umap-learn-0.5.3\n"
          ]
        }
      ],
      "source": [
        "pip install umap-learn"
      ]
    },
    {
      "cell_type": "code",
      "execution_count": null,
      "metadata": {
        "colab": {
          "base_uri": "https://localhost:8080/"
        },
        "id": "OgJa5gkN0F4v",
        "outputId": "fbc50860-1fc2-43f0-e537-6d94fc5085d9"
      },
      "outputs": [
        {
          "name": "stdout",
          "output_type": "stream",
          "text": [
            "Mounted at /content/drive\n"
          ]
        }
      ],
      "source": [
        "# Mount the Google Drive folder\n",
        "from google.colab import drive\n",
        "drive.mount('/content/drive')"
      ]
    },
    {
      "cell_type": "code",
      "execution_count": null,
      "metadata": {
        "id": "_tGAEcYq0OGx"
      },
      "outputs": [],
      "source": [
        "#importing libraries\n",
        "import os\n",
        "import pandas as pd\n",
        "import numpy as np\n",
        "import math\n",
        "import matplotlib.pyplot as plt\n",
        "import umap\n",
        "import csv\n",
        "\n",
        "from sklearn.preprocessing import MinMaxScaler\n",
        "from sklearn.preprocessing import StandardScaler\n",
        "from utils import CautDataloaderRegular\n"
      ]
    },
    {
      "cell_type": "code",
      "execution_count": null,
      "metadata": {
        "id": "vd0sIT7r0lXg"
      },
      "outputs": [],
      "source": []
    },
    {
      "cell_type": "code",
      "execution_count": null,
      "metadata": {
        "colab": {
          "background_save": true
        },
        "id": "aexXYzLKFtO2"
      },
      "outputs": [],
      "source": [
        "from sklearn.svm import SVC\n",
        "from sklearn.metrics import accuracy_score, confusion_matrix, precision_score, recall_score, ConfusionMatrixDisplay\n",
        "from sklearn.model_selection import RandomizedSearchCV, train_test_split\n",
        "from scipy.stats import randint\n",
        "from sklearn.model_selection import GridSearchCV\n",
        "\n",
        "    \n",
        "from sklearn import svm\n",
        "from sklearn.model_selection import train_test_split\n",
        "from sklearn.metrics import accuracy_score\n",
        "\n",
        "def SVM_grid_search(csv_path,\n",
        "                     visual_data_dir,\n",
        "                     visual_data_mode,\n",
        "                     audio_data_dir,\n",
        "                     fusion_mode,\n",
        "                     visual_approach_type,\n",
        "                     audio_feature_type,\n",
        "                     threshold=0.5,\n",
        "                     required_FPS=30,\n",
        "                     input_length_in_seconds=3,\n",
        "                     class_to_num_dict={\"truth\": 0, \"lie\": 1}):\n",
        "    \n",
        "    X_y_data = CautDataloaderRegular.get_X_y_TrainTest_Fused(csv_path,\n",
        "                                                             visual_data_dir,\n",
        "                                                             visual_data_mode,\n",
        "                                                             audio_data_dir,\n",
        "                                                             fusion_mode,\n",
        "                                                             visual_approach_type=visual_approach_type,  # average or frame-based\n",
        "                                                             required_FPS=required_FPS,\n",
        "                                                             input_length_in_seconds=input_length_in_seconds,\n",
        "                                                             audio_feature_type=audio_feature_type,  # MFCC, RMS, Chroma\n",
        "                                                             class_to_num_dict=class_to_num_dict)\n",
        "    \n",
        "    if visual_data_mode == \"OpenFace\" and visual_approach_type == \"average\":\n",
        "        X_train, y_train = X_y_data[0], X_y_data[1]\n",
        "        X_test, y_test = X_y_data[2], X_y_data[3]\n",
        "    else:\n",
        "        X_train, y_train = X_y_data[0], X_y_data[1]\n",
        "        X_test, y_test = X_y_data[2], X_y_data[3]\n",
        "        X_train[np.isnan(X_train)] = 0\n",
        "        X_test[np.isnan(X_test)] = 0\n",
        "    \n",
        "    param_grid = {\n",
        "        'C': [0.1, 1, 10, 100], \n",
        "        'kernel': ['linear', 'poly', 'rbf', 'sigmoid'], \n",
        "        'gamma': ['scale', 'auto', 0.1, 1, 10]\n",
        "    }\n",
        "\n",
        "    svm = SVC()\n",
        "\n",
        "    # Create GridSearchCV object\n",
        "    grid_search = GridSearchCV(estimator=svm, param_grid=param_grid, cv=5)\n",
        "\n",
        "    # Fit the GridSearchCV object to the data\n",
        "    grid_search.fit(X_train, y_train)\n",
        "\n",
        "    # Print the best hyperparameters found\n",
        "    print(grid_search.best_params_)\n",
        "    \n",
        "    depth, estimators = None, None\n",
        "    \n",
        "    return depth, estimators\n",
        "        \n",
        "def SVM_Model(csv_path,\n",
        "               visual_data_dir,\n",
        "               visual_data_mode,\n",
        "               audio_data_dir,\n",
        "               # coord_selection,\n",
        "               fusion_mode,\n",
        "               visual_approach_type,  # average or frame-based\n",
        "               audio_feature_type,  # MFCC, RMS, Chroma\n",
        "               threshold,\n",
        "               required_FPS,\n",
        "               input_length_in_seconds,\n",
        "               class_to_num_dict,\n",
        "               train_verbose):\n",
        "\n",
        "    X_y_data = CautDataloaderRegular.get_X_y_TrainTest_Fused(csv_path,\n",
        "                                                             visual_data_dir,\n",
        "                                                             visual_data_mode,\n",
        "                                                             audio_data_dir,\n",
        "                                                             # coord_selection,\n",
        "                                                             fusion_mode,\n",
        "                                                             visual_approach_type=visual_approach_type,  # average or frame-based\n",
        "                                                             required_FPS=required_FPS,\n",
        "                                                             input_length_in_seconds=input_length_in_seconds,\n",
        "                                                             audio_feature_type=audio_feature_type,  # MFCC, RMS, Chroma\n",
        "                                                             class_to_num_dict=class_to_num_dict,\n",
        "                                                             verbose=train_verbose)\n",
        "    \n",
        "    if visual_data_mode == \"OpenFace\" and visual_approach_type == \"average\":\n",
        "        X_train, y_train = X_y_data[0], X_y_data[1]\n",
        "        X_test, y_test = X_y_data[2], X_y_data[3]\n",
        "    else:\n",
        "        X_train, y_train = X_y_data[0], X_y_data[1]\n",
        "        X_test, y_test = X_y_data[2], X_y_data[3]\n",
        "        X_train[np.isnan(X_train)] = 0\n",
        "        X_test[np.isnan(X_test)] = 0\n",
        "    \n",
        "    print(X_train.shape, y_train.shape, X_test.shape, y_test.shape)\n",
        "    \n",
        "    # depth, estimators = SVM_grid_search(csv_path,\n",
        "    #                                     visual_data_dir,\n",
        "    #                                     visual_data_mode,\n",
        "    #                                     audio_data_dir,\n",
        "    #                                     fusion_mode,\n",
        "    #                                     visual_approach_type=visual_approach_type,  # average or frame-based\n",
        "    #                                     required_FPS=required_FPS,\n",
        "    #                                     input_length_in_seconds=input_length_in_seconds,\n",
        "    #                                     audio_feature_type=audio_feature_type,  # MFCC, RMS, Chroma\n",
        "    #                                     class_to_num_dict=class_to_num_dict)\n",
        "    \n",
        "    # svm = svm.SVC(n_estimators=estimators, max_depth=depth)\n",
        "    \n",
        "    # X_train, y_train = X_y_data[0].reshape(len(X_y_data[0]), -1), X_y_data[1]\n",
        "    # X_test, y_test = X_y_data[2].reshape(len(X_y_data[2]), -1), X_y_data[3]\n",
        "\n",
        "    # precomputed kernel\n",
        "    gram_train = np.dot(X_train, X_train.T)\n",
        "    clf = svm.SVC(kernel='precomputed')\n",
        "    clf.fit(gram_train, y_train)\n",
        "\n",
        "    # predict on test set\n",
        "    gram_test = np.dot(X_test, X_train.T)\n",
        "    y_pred = clf.predict(gram_test)\n",
        "\n",
        "    # get metrics (accuracy, precision, recall)\n",
        "    accuracy = accuracy_score(y_test, y_pred)\n",
        "    precision = precision_score(y_test, y_pred)\n",
        "    recall = recall_score(y_test, y_pred)\n",
        "    print(\"Accuracy:\", accuracy)\n",
        "    print(\"Precision\", precision)\n",
        "    print(\"Recall\", recall)\n",
        "\n",
        "    # show confusion matrix\n",
        "    CautDataloaderRegular.plot_confusion_matrix(y_test, y_pred)\n"
      ]
    },
    {
      "cell_type": "code",
      "source": [
        "def SVM_Model(csv_path,\n",
        "               visual_data_dir,\n",
        "               visual_data_mode,\n",
        "               audio_data_dir,\n",
        "               # coord_selection,\n",
        "               fusion_mode,\n",
        "               visual_approach_type,  # average or frame-based\n",
        "               audio_feature_type,  # MFCC, RMS, Chroma\n",
        "               threshold,\n",
        "               required_FPS,\n",
        "               input_length_in_seconds,\n",
        "               class_to_num_dict,\n",
        "               train_verbose):\n",
        "\n",
        "    X_y_data = CautDataloaderRegular.get_X_y_TrainTest_Fused(csv_path,\n",
        "                                                             visual_data_dir,\n",
        "                                                             visual_data_mode,\n",
        "                                                             audio_data_dir,\n",
        "                                                             # coord_selection,\n",
        "                                                             fusion_mode,\n",
        "                                                             visual_approach_type=visual_approach_type,  # average or frame-based\n",
        "                                                             required_FPS=required_FPS,\n",
        "                                                             input_length_in_seconds=input_length_in_seconds,\n",
        "                                                             audio_feature_type=audio_feature_type,  # MFCC, RMS, Chroma\n",
        "                                                             class_to_num_dict=class_to_num_dict,\n",
        "                                                             verbose=train_verbose)\n",
        "    \n",
        "    if visual_data_mode == \"OpenFace\" and visual_approach_type == \"average\":\n",
        "        X_train, y_train = X_y_data[0], X_y_data[1]\n",
        "        X_test, y_test = X_y_data[2], X_y_data[3]\n",
        "    else:\n",
        "        X_train, y_train = X_y_data[0].reshape(-1, X_y_data[0].shape[1] * X_y_data[0].shape[2]), X_y_data[1]\n",
        "        X_test, y_test = X_y_data[2].reshape(-1, X_y_data[2].shape[1] * X_y_data[2].shape[2]), X_y_data[3]\n",
        "        X_train[np.isnan(X_train)] = 0\n",
        "        X_test[np.isnan(X_test)] = 0\n",
        "\n",
        "    # precomputed kernel\n",
        "    clf = svm.SVC()\n",
        "    clf.fit(X_train, y_train)\n",
        "\n",
        "    # predict on test set\n",
        "    y_pred = clf.predict(X_test)\n",
        "\n",
        "    # get metrics (accuracy, precision, recall)\n",
        "    accuracy = accuracy_score(y_test, y_pred)\n",
        "    precision = precision_score(y_test, y_pred)\n",
        "    recall = recall_score(y_test, y_pred)\n",
        "    print(\"Accuracy:\", accuracy)\n",
        "    print(\"Precision\", precision)\n",
        "    print(\"Recall\", recall)\n",
        "\n",
        "    # show confusion matrix\n",
        "    CautDataloaderRegular.plot_confusion_matrix(y_test, y_pred)\n"
      ],
      "metadata": {
        "id": "PL1h6NyZ6hvg"
      },
      "execution_count": 9,
      "outputs": []
    },
    {
      "cell_type": "markdown",
      "source": [
        "###OPENFACE AVERAGE"
      ],
      "metadata": {
        "id": "VfHj4jsQ-1PO"
      }
    },
    {
      "cell_type": "code",
      "execution_count": 10,
      "metadata": {
        "colab": {
          "base_uri": "https://localhost:8080/",
          "height": 951
        },
        "id": "r5e7x0sF0o79",
        "outputId": "cbc861b3-8807-4976-ed0d-10962762103c"
      },
      "outputs": [
        {
          "output_type": "stream",
          "name": "stdout",
          "text": [
            "audio_data_dir updated to: /content/drive/MyDrive/606 captsone/audio_features/MFCC_audio_features\n",
            "\n",
            "Selected csv_path: /content/drive/MyDrive/606 captsone/\n",
            "Video failed to be processed by OpenFace. Videoname=trial_lie_015_008. Skipping...\n",
            "Video failed to be processed by OpenFace. Videoname=trial_lie_053_007. Skipping...\n",
            "Video failed to be processed by OpenFace. Videoname=trial_lie_053_006. Skipping...\n",
            "Video failed to be processed by OpenFace. Videoname=trial_truth_025_008. Skipping...\n",
            "Video failed to be processed by OpenFace. Videoname=trial_lie_053_002. Skipping...\n",
            "Video failed to be processed by OpenFace. Videoname=trial_truth_025_007. Skipping...\n",
            "Accuracy: 0.6742081447963801\n",
            "Precision 0.7142857142857143\n",
            "Recall 0.6410256410256411\n"
          ]
        },
        {
          "output_type": "display_data",
          "data": {
            "text/plain": [
              "<Figure size 640x480 with 2 Axes>"
            ],
            "image/png": "[encoded data removed]"
          },
          "metadata": {}
        },
        {
          "output_type": "stream",
          "name": "stdout",
          "text": [
            "---------------------------------------------------------------\n",
            "\n",
            "Metrics Rates:\n",
            "     - True Positive            : 75\n",
            "     - False Positive           : 30\n",
            "     - True Negative            : 74\n",
            "     - False Negative           : 42\n",
            "     - True Positive Rate       :  0.6410256410256411\n",
            "     - True Negative Rate       :  0.7115384615384616\n",
            "     - Positive Predictive Value:  0.7142857142857143\n",
            "     - Negative predictive value:  0.6379310344827587\n",
            "     - False Positive Rate      :  0.28846153846153844\n",
            "     - False Negative Rate      :  0.358974358974359\n",
            "     - False Discovery Rate     :  0.2857142857142857\n"
          ]
        }
      ],
      "source": [
        "SVM_Model(csv_path= \"/content/drive/MyDrive/606 captsone/\",\n",
        "          visual_data_dir=\"/content/drive/MyDrive/606 captsone/OpenFace_Final/\",\n",
        "          visual_data_mode=\"OpenFace\",\n",
        "          audio_data_dir=\"/content/drive/MyDrive/606 captsone/audio_features/\",\n",
        "          # coord_selection,\n",
        "          fusion_mode=\"+\",\n",
        "          visual_approach_type=\"average\",  # average or frame-based\n",
        "          audio_feature_type=\"MFCC\",  # MFCC, RMS, Chroma\n",
        "          threshold=0.5,\n",
        "          required_FPS=30,\n",
        "          input_length_in_seconds=3,\n",
        "          class_to_num_dict={\"truth\": 0, \"lie\": 1},\n",
        "          train_verbose= False)"
      ]
    },
    {
      "cell_type": "markdown",
      "source": [
        "###OPENFACE SEQUENTIAL"
      ],
      "metadata": {
        "id": "pOgZhhXTBkR3"
      }
    },
    {
      "cell_type": "code",
      "source": [
        "SVM_Model(csv_path= \"/content/drive/MyDrive/606 captsone/\",\n",
        "          visual_data_dir=\"/content/drive/MyDrive/606 captsone/OpenFace 2/\",\n",
        "          visual_data_mode=\"OpenFace\",\n",
        "          audio_data_dir=\"/content/drive/MyDrive/606 captsone/audio_features/\",\n",
        "          # coord_selection,\n",
        "          fusion_mode=\"+\",\n",
        "          visual_approach_type=\"sequential\",  # average or frame-based\n",
        "          audio_feature_type=\"MFCC\",  # MFCC, RMS, Chroma\n",
        "          threshold=0.5,\n",
        "          required_FPS=30,\n",
        "          input_length_in_seconds=3,\n",
        "          class_to_num_dict={\"truth\": 0, \"lie\": 1},\n",
        "          train_verbose= False)"
      ],
      "metadata": {
        "colab": {
          "base_uri": "https://localhost:8080/",
          "height": 844
        },
        "id": "-anzfK8n7A6D",
        "outputId": "f4ca00fe-1aba-4c95-a126-ce0c6af35ab6"
      },
      "execution_count": 11,
      "outputs": [
        {
          "output_type": "stream",
          "name": "stdout",
          "text": [
            "audio_data_dir updated to: /content/drive/MyDrive/606 captsone/audio_features/MFCC_audio_features\n",
            "\n",
            "Selected csv_path: /content/drive/MyDrive/606 captsone/\n",
            "Accuracy: 0.7757847533632287\n",
            "Precision 0.8148148148148148\n",
            "Recall 0.7457627118644068\n"
          ]
        },
        {
          "output_type": "display_data",
          "data": {
            "text/plain": [
              "<Figure size 640x480 with 2 Axes>"
            ],
            "image/png": "[encoded data removed]"
          },
          "metadata": {}
        },
        {
          "output_type": "stream",
          "name": "stdout",
          "text": [
            "---------------------------------------------------------------\n",
            "\n",
            "Metrics Rates:\n",
            "     - True Positive            : 88\n",
            "     - False Positive           : 20\n",
            "     - True Negative            : 85\n",
            "     - False Negative           : 30\n",
            "     - True Positive Rate       :  0.7457627118644068\n",
            "     - True Negative Rate       :  0.8095238095238095\n",
            "     - Positive Predictive Value:  0.8148148148148148\n",
            "     - Negative predictive value:  0.7391304347826086\n",
            "     - False Positive Rate      :  0.19047619047619047\n",
            "     - False Negative Rate      :  0.2542372881355932\n",
            "     - False Discovery Rate     :  0.18518518518518517\n"
          ]
        }
      ]
    },
    {
      "cell_type": "markdown",
      "source": [
        "###MEDIAPIPE SEQUENTIAL"
      ],
      "metadata": {
        "id": "V7LnKjvKBrke"
      }
    },
    {
      "cell_type": "code",
      "source": [
        "SVM_Model(csv_path= \"/content/drive/MyDrive/606 captsone/\",\n",
        "          visual_data_dir=\"/content/drive/MyDrive/606 captsone/mediaPipe_keypoints_data_UPD 2/\",\n",
        "          visual_data_mode=\"MediaPipe\",\n",
        "          audio_data_dir=\"/content/drive/MyDrive/606 captsone/audio_features/\",\n",
        "          # coord_selection,\n",
        "          fusion_mode=\"+\",\n",
        "          visual_approach_type=\"sequential\",  # average or frame-based\n",
        "          audio_feature_type=\"MFCC\",  # MFCC, RMS, Chroma\n",
        "          threshold=0.5,\n",
        "          required_FPS=30,\n",
        "          input_length_in_seconds=3,\n",
        "          class_to_num_dict={\"truth\": 0, \"lie\": 1},\n",
        "          train_verbose= False)"
      ],
      "metadata": {
        "colab": {
          "base_uri": "https://localhost:8080/",
          "height": 844
        },
        "id": "u4X9bx7777rw",
        "outputId": "dd5885a0-1ed4-46f2-85cd-de2e613ad8d1"
      },
      "execution_count": 13,
      "outputs": [
        {
          "output_type": "stream",
          "name": "stdout",
          "text": [
            "audio_data_dir updated to: /content/drive/MyDrive/606 captsone/audio_features/MFCC_audio_features\n",
            "\n",
            "Selected csv_path: /content/drive/MyDrive/606 captsone/\n",
            "Accuracy: 0.7757847533632287\n",
            "Precision 0.8148148148148148\n",
            "Recall 0.7457627118644068\n"
          ]
        },
        {
          "output_type": "display_data",
          "data": {
            "text/plain": [
              "<Figure size 640x480 with 2 Axes>"
            ],
            "image/png": "[encoded data removed]"
          },
          "metadata": {}
        },
        {
          "output_type": "stream",
          "name": "stdout",
          "text": [
            "---------------------------------------------------------------\n",
            "\n",
            "Metrics Rates:\n",
            "     - True Positive            : 88\n",
            "     - False Positive           : 20\n",
            "     - True Negative            : 85\n",
            "     - False Negative           : 30\n",
            "     - True Positive Rate       :  0.7457627118644068\n",
            "     - True Negative Rate       :  0.8095238095238095\n",
            "     - Positive Predictive Value:  0.8148148148148148\n",
            "     - Negative predictive value:  0.7391304347826086\n",
            "     - False Positive Rate      :  0.19047619047619047\n",
            "     - False Negative Rate      :  0.2542372881355932\n",
            "     - False Discovery Rate     :  0.18518518518518517\n"
          ]
        }
      ]
    }
  ],
  "metadata": {
    "colab": {
      "provenance": []
    },
    "kernelspec": {
      "display_name": "Python 3",
      "name": "python3"
    },
    "language_info": {
      "name": "python"
    }
  },
  "nbformat": 4,
  "nbformat_minor": 0
}